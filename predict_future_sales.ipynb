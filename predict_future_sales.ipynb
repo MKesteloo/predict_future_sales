{
  "nbformat": 4,
  "nbformat_minor": 0,
  "metadata": {
    "accelerator": "GPU",
    "colab": {
      "name": "predict_future_sales.ipynb",
      "provenance": [],
      "collapsed_sections": [
        "4mY4s3UubFhz",
        "2JVZ-b2LbqjR",
        "uHVIBl7Xcv4E",
        "MchAi0wABchP",
        "O6TAj7fUryKg"
      ],
      "include_colab_link": true
    },
    "kernelspec": {
      "display_name": "Python 3",
      "language": "python",
      "name": "python3"
    },
    "language_info": {
      "codemirror_mode": {
        "name": "ipython",
        "version": 3
      },
      "file_extension": ".py",
      "mimetype": "text/x-python",
      "name": "python",
      "nbconvert_exporter": "python",
      "pygments_lexer": "ipython3",
      "version": "3.8.3"
    }
  },
  "cells": [
    {
      "cell_type": "markdown",
      "metadata": {
        "id": "view-in-github",
        "colab_type": "text"
      },
      "source": [
        "<a href=\"https://colab.research.google.com/github/cmannnn/predict_future_sales/blob/main/predict_future_sales.ipynb\" target=\"_parent\"><img src=\"https://colab.research.google.com/assets/colab-badge.svg\" alt=\"Open In Colab\"/></a>"
      ]
    },
    {
      "cell_type": "markdown",
      "metadata": {
        "id": "U4SoFslGfRpJ"
      },
      "source": [
        "# Predict Future Sales"
      ]
    },
    {
      "cell_type": "markdown",
      "metadata": {
        "id": "DJaaDvndfbOO"
      },
      "source": [
        "You are provided with daily historical sales data. The task is to forecast the total amount of products sold in every shop for the test set. Note that the list of shops and products slightly changes every month. Creating a robust model that can handle such situations is part of the challenge."
      ]
    },
    {
      "cell_type": "markdown",
      "metadata": {
        "id": "7GwxSxIkblYe"
      },
      "source": [
        "# File descriptions"
      ]
    },
    {
      "cell_type": "code",
      "metadata": {
        "id": "PpAc3j6Eb2hI"
      },
      "source": [
        "from google.colab import drive\n",
        "drive.mount('/content/drive')"
      ],
      "execution_count": null,
      "outputs": []
    },
    {
      "cell_type": "markdown",
      "metadata": {
        "id": "pj9IqueibjQL"
      },
      "source": [
        "itemcats_df - supplemental information about the items categories.\n",
        "\n",
        "items_df - supplemental information about the items/products.\n",
        "\n",
        "salestrain_df - the training set. Daily historical data from January 2013 to October 2015.\n",
        "\n",
        "shops_df - supplemental information about the shops.\n",
        "\n",
        "test.csv - the test set. You need to forecast the sales for these shops and products for November 2015.\n",
        "\n",
        "sample_submission.csv - a sample submission file in the correct format."
      ]
    },
    {
      "cell_type": "markdown",
      "metadata": {
        "id": "j-UxcjnUffCN"
      },
      "source": [
        "# Imports and uploads"
      ]
    },
    {
      "cell_type": "code",
      "metadata": {
        "id": "XTSLNlmdd5lX"
      },
      "source": [
        "# imports\n",
        "import os\n",
        "\n",
        "import pandas as pd\n",
        "import matplotlib.pyplot as plt\n",
        "import numpy as np\n",
        "import seaborn as sns\n",
        "\n",
        "import datetime as dt\n",
        "\n",
        "#import specific sklearn packages\n",
        "from sklearn.model_selection import train_test_split\n",
        "from sklearn.model_selection import TimeSeriesSplit\n",
        "\n",
        "#encoders, tested several of them\n",
        "from sklearn.preprocessing import OrdinalEncoder\n",
        "from sklearn.preprocessing import LabelEncoder\n",
        "from sklearn.preprocessing import OneHotEncoder\n",
        "\n",
        "from sklearn.preprocessing import MinMaxScaler\n",
        "from sklearn.preprocessing import StandardScaler\n",
        "\n",
        "from sklearn.feature_selection import VarianceThreshold\n",
        "\n",
        "from sklearn.metrics import classification_report\n",
        "from sklearn.metrics import confusion_matrix\n",
        "\n",
        "from sklearn.pipeline import make_pipeline\n",
        "\n",
        "from sklearn.cluster import KMeans\n",
        "\n",
        "from sklearn.linear_model import LogisticRegression\n",
        "\n",
        "from sklearn import linear_model"
      ],
      "execution_count": null,
      "outputs": []
    },
    {
      "cell_type": "code",
      "metadata": {
        "id": "PFj3ad_MNaoz"
      },
      "source": [
        "#!pip install kaggle"
      ],
      "execution_count": null,
      "outputs": []
    },
    {
      "cell_type": "code",
      "metadata": {
        "id": "wezZf71jNjPJ"
      },
      "source": [
        "# UPLOAD YOUR kaggle.json KEY HERE\n",
        "\n",
        "from google.colab import files\n",
        "\n",
        "uploaded = files.upload()\n",
        "\n",
        "for fn in uploaded.keys():\n",
        "  print('User uploaded file \"{name}\" with length {length} bytes'.format(\n",
        "      name=fn, length=len(uploaded[fn])))\n",
        "\n",
        "\n",
        "!mkdir -p ~/.kaggle/ && mv kaggle.json ~/.kaggle/ && chmod 600 ~/.kaggle/kaggle.json"
      ],
      "execution_count": null,
      "outputs": []
    },
    {
      "cell_type": "code",
      "metadata": {
        "id": "j5MjpqkNOGj8"
      },
      "source": [
        "!kaggle competitions list"
      ],
      "execution_count": null,
      "outputs": []
    },
    {
      "cell_type": "code",
      "metadata": {
        "id": "UDUtQqcJYNLt"
      },
      "source": [
        "!mkdir -p predict_future_sales"
      ],
      "execution_count": null,
      "outputs": []
    },
    {
      "cell_type": "code",
      "metadata": {
        "id": "Wgoyloq3NmIX"
      },
      "source": [
        "# UPLOAD 6 FILES HERE\n",
        "uploaded2 = files.upload()"
      ],
      "execution_count": null,
      "outputs": []
    },
    {
      "cell_type": "code",
      "metadata": {
        "id": "0o_BHflNj8B0"
      },
      "source": [
        "!cp test.csv predict_future_sales/\n",
        "!cp item_categories.csv predict_future_sales/\n",
        "!cp items.csv predict_future_sales/\n",
        "!cp sales_train.csv predict_future_sales/\n",
        "!cp sample_submission.csv predict_future_sales/\n",
        "!cp shops.csv predict_future_sales/\n",
        "!cp test.csv predict_future_sales/"
      ],
      "execution_count": null,
      "outputs": []
    },
    {
      "cell_type": "markdown",
      "metadata": {
        "id": "4mY4s3UubFhz"
      },
      "source": [
        "# Importing All Predict Sales Data"
      ]
    },
    {
      "cell_type": "code",
      "metadata": {
        "id": "CwqnebRuocPf"
      },
      "source": [
        "#importing all the data frames\n",
        "itemcats_df = pd.read_csv(\"predict_future_sales/item_categories.csv\") #Item Categories\n",
        "items_df = pd.read_csv(\"predict_future_sales/items.csv\") # Items\n",
        "salestrain_df = pd.read_csv(\"predict_future_sales/sales_train.csv\") #Sales Data - Training\n",
        "shops_df = pd.read_csv(\"predict_future_sales/shops.csv\") # Shops"
      ],
      "execution_count": null,
      "outputs": []
    },
    {
      "cell_type": "code",
      "metadata": {
        "id": "zkKM_5O-LcE5"
      },
      "source": [
        "# sample submission dataframe\n",
        "sample_df = pd.read_csv('predict_future_sales/sample_submission.csv')\n",
        "\n",
        "# test data frame\n",
        "test_df = pd.read_csv('predict_future_sales/test.csv')"
      ],
      "execution_count": null,
      "outputs": []
    },
    {
      "cell_type": "markdown",
      "metadata": {
        "id": "2JVZ-b2LbqjR"
      },
      "source": [
        "# Data EDA"
      ]
    },
    {
      "cell_type": "code",
      "metadata": {
        "id": "lg8_zM9rbRsN"
      },
      "source": [
        "# creating a master list of all dataframes\n",
        "df_list = [itemcats_df, items_df, salestrain_df, shops_df]"
      ],
      "execution_count": null,
      "outputs": []
    },
    {
      "cell_type": "code",
      "metadata": {
        "id": "kFrFewFkbvdB"
      },
      "source": [
        "# creating a loop to print head, description, info, and null sum for each datafram in master list \n",
        "for df in df_list:\n",
        "    print(f'DATAFRAME HEAD: {df.head()}')\n",
        "    print('-----------------------')\n",
        "    print(f'DATAFRAME DESCRIPTION: {df.describe()}')\n",
        "    print('-----------------------')\n",
        "    print(f'DATAFAME INFO: {df.info()}')\n",
        "    print('-----------------------')\n",
        "    print(f'DATAFRAME NULL SUM: {df.isnull().sum()}')\n",
        "    print('------------------------------------------------------------------------------')"
      ],
      "execution_count": null,
      "outputs": []
    },
    {
      "cell_type": "code",
      "metadata": {
        "id": "gAaoFHoIcBDg"
      },
      "source": [
        "# checking itemcats_df column data types\n",
        "itemcats_df.dtypes"
      ],
      "execution_count": null,
      "outputs": []
    },
    {
      "cell_type": "code",
      "metadata": {
        "id": "B-iFIwgBcC66"
      },
      "source": [
        "# checking item_df column data types\n",
        "items_df.dtypes"
      ],
      "execution_count": null,
      "outputs": []
    },
    {
      "cell_type": "code",
      "metadata": {
        "id": "mtdzLWs9cF9B"
      },
      "source": [
        "# checking salestrain_df data types\n",
        "salestrain_df.dtypes"
      ],
      "execution_count": null,
      "outputs": []
    },
    {
      "cell_type": "code",
      "metadata": {
        "id": "BZfrZjc7cMde"
      },
      "source": [
        "# changing salestrain 'item_cnt_day' col from float64 -> int16\n",
        "salestrain_df['item_cnt_day'] = pd.to_numeric(salestrain_df['item_cnt_day'], downcast='signed')"
      ],
      "execution_count": null,
      "outputs": []
    },
    {
      "cell_type": "code",
      "metadata": {
        "id": "u8_43wo0cole"
      },
      "source": [
        "# changing salestrain 'date' col from object -> datetime\n",
        "salestrain_df['date'] = pd.to_datetime(salestrain_df['date'])"
      ],
      "execution_count": null,
      "outputs": []
    },
    {
      "cell_type": "code",
      "metadata": {
        "id": "mxdsCpTYcrRd"
      },
      "source": [
        "shops_df.dtypes"
      ],
      "execution_count": null,
      "outputs": []
    },
    {
      "cell_type": "code",
      "metadata": {
        "id": "JnjZjLxSL-jl"
      },
      "source": [
        "# the df info showed some items with negative price, check them here\n",
        "salestrain_df[salestrain_df['item_price'] < 0]"
      ],
      "execution_count": null,
      "outputs": []
    },
    {
      "cell_type": "code",
      "metadata": {
        "id": "AGz0Jt1jL-jl"
      },
      "source": [
        "# this item is a game, released in 2013, so very unlikely that price is negative: change price to median price of this item in the same date_block_num\n",
        "salestrain_df.loc[salestrain_df['item_price'] < 0, 'item_price'] = salestrain_df[(salestrain_df['item_price'] > 0) & (salestrain_df['date_block_num'] == 4) & \n",
        "                                                                                                           (salestrain_df['item_id'] == 2973)]['item_price'].median()"
      ],
      "execution_count": null,
      "outputs": []
    },
    {
      "cell_type": "markdown",
      "metadata": {
        "id": "uHVIBl7Xcv4E"
      },
      "source": [
        "# Combine DFs"
      ]
    },
    {
      "cell_type": "code",
      "metadata": {
        "id": "BjnsHvz1cuOO"
      },
      "source": [
        "# combining training dataframes into master training set\n",
        "salestrain_df_combined = salestrain_df.merge(items_df,on='item_id')\n",
        "salestrain_df_combined = salestrain_df_combined.merge(itemcats_df,on='item_category_id')\n",
        "salestrain_df_combined = salestrain_df_combined.merge(shops_df,on='shop_id')"
      ],
      "execution_count": null,
      "outputs": []
    },
    {
      "cell_type": "code",
      "metadata": {
        "id": "Jtr7A6KXc0m0"
      },
      "source": [
        "salestrain_df_combined.isnull().sum()"
      ],
      "execution_count": null,
      "outputs": []
    },
    {
      "cell_type": "code",
      "metadata": {
        "id": "syHw5OsIc4h6"
      },
      "source": [
        "# setting the id col, and 2 target cols based on testing data\n",
        "id_col, target_col_item, target_col_shop = salestrain_df.index, salestrain_df_combined['item_id'], salestrain_df_combined['shop_id']"
      ],
      "execution_count": null,
      "outputs": []
    },
    {
      "cell_type": "markdown",
      "metadata": {
        "id": "ZkxytbOZL-jn"
      },
      "source": [
        "# Outliers\n",
        "Based on the information from salestrain_df, the max price of some items is insanely high. In addition, quantity of items sold on one day is extremely high for some items. These particular rows are investigated in more detail."
      ]
    },
    {
      "cell_type": "code",
      "metadata": {
        "id": "nN6cFzA5L-jn"
      },
      "source": [
        "# checking outliers for quantity of items sold per day\n",
        "plt.figure(figsize = (20, 10))\n",
        "sns.boxplot(x=salestrain_df_combined['item_cnt_day'])\n",
        "plt.ylabel('Number of items sold per day')\n",
        "plt.title('Boxplot for checking outliers for number of items sold per day')\n",
        "\n",
        "# checking outliers for item prices\n",
        "plt.figure(figsize = (20, 10))\n",
        "sns.boxplot(x=salestrain_df_combined['item_price'])\n",
        "plt.ylabel('Number of items sold per day')\n",
        "plt.title('Boxplot for checking outliers for number of items sold per day')"
      ],
      "execution_count": null,
      "outputs": []
    },
    {
      "cell_type": "code",
      "metadata": {
        "id": "ir5HFlwYL-jn"
      },
      "source": [
        "# boxplot shows quantity for 1 particular sale is very high. Check all sales where quantity is bigger than 500\n",
        "# can imagine that one shop has 2169 deliveries at some peak days or some companies buying 1000 t-shirts\n",
        "salestrain_df_combined[salestrain_df_combined['item_cnt_day'] > 500]"
      ],
      "execution_count": null,
      "outputs": []
    },
    {
      "cell_type": "code",
      "metadata": {
        "id": "ihpK7KyiL-jn"
      },
      "source": [
        "# boxplot shows price for one item is very high, check all items above 40000\n",
        "# most expensive item is a license for some software package (VPN remote working) for 522 users (roughly 4000 US dollars)\n",
        "salestrain_df_combined[salestrain_df_combined['item_price'] > 40000]"
      ],
      "execution_count": null,
      "outputs": []
    },
    {
      "cell_type": "code",
      "metadata": {
        "id": "NoP__0VrL-jo"
      },
      "source": [
        "# for now, remove the row with the license for software package and any sale with quantity more or equal to 1000, discuss this next meeting\n",
        "salestrain_df_combined = salestrain_df_combined[(salestrain_df_combined['item_cnt_day'] < 1000) & (salestrain_df_combined['item_price'] < 300000)]"
      ],
      "execution_count": null,
      "outputs": []
    },
    {
      "cell_type": "markdown",
      "metadata": {
        "id": "bOxMQcL9dMuu"
      },
      "source": [
        "# Data Viz"
      ]
    },
    {
      "cell_type": "code",
      "metadata": {
        "id": "5LH4oZ8mdLNt"
      },
      "source": [
        "# adding features for separating date\n",
        "salestrain_df_combined['year'] = salestrain_df_combined.date.dt.year\n",
        "salestrain_df_combined['month'] = salestrain_df_combined.date.dt.month\n",
        "salestrain_df_combined['day'] = salestrain_df_combined.date.dt.day\n",
        "\n",
        "# adding revenue feature\n",
        "salestrain_df_combined['revenue'] = salestrain_df_combined.item_price * salestrain_df_combined.item_cnt_day\n",
        "salestrain_df_combined.head()"
      ],
      "execution_count": null,
      "outputs": []
    },
    {
      "cell_type": "code",
      "metadata": {
        "id": "SbiVOlOcdnMl"
      },
      "source": [
        "sns.set()\n",
        "salestrain_df_combined.groupby('date_block_num').date.count().plot.line(title='Sales by Month', color='green', figsize=(20, 10))"
      ],
      "execution_count": null,
      "outputs": []
    },
    {
      "cell_type": "markdown",
      "metadata": {
        "id": "84XkX343f9Ru"
      },
      "source": [
        "As we can see, sales are decreasing through the years. \n",
        "We also see a spike sale during december. \n",
        "Since, the dataset is up to October, are we seeing some spike in year 2015?"
      ]
    },
    {
      "cell_type": "code",
      "metadata": {
        "id": "pj-psTcbjH26"
      },
      "source": [
        "# time series scatterplot of revenue highlighting years\n",
        "plt.figure(figsize = (20, 10))\n",
        "sns.scatterplot(x = salestrain_df_combined['date'], y = salestrain_df_combined['revenue'], hue = salestrain_df_combined['year'], palette='deep')\n",
        "plt.ylim(salestrain_df_combined['revenue'].min(), 1900000)\n",
        "#plt.arrow(2013-11-29, 1829990.0000013, 2013-11-30, 1700000, head_width = 10, head_length = 11)\n",
        "#plt.axvline()\n",
        "plt.ylabel('Revenue (millions of rubles)')\n",
        "plt.legend(fontsize='x-large')\n",
        "plt.show()"
      ],
      "execution_count": null,
      "outputs": []
    },
    {
      "cell_type": "code",
      "metadata": {
        "id": "Z0sQa1EvZygz"
      },
      "source": [
        "# printing most amount of revenue and least amount of revenue\n",
        "print(f'The least amount of revenue recorded is: {salestrain_df_combined.revenue.min()}')\n",
        "print(f'The most amount of revenue recorded is: {salestrain_df_combined.revenue.max()}')"
      ],
      "execution_count": null,
      "outputs": []
    },
    {
      "cell_type": "code",
      "metadata": {
        "id": "Mce2e8MlUejX"
      },
      "source": [
        "# day with the highest amount of revenue\n",
        "print('The date with the most amount of revenue is:', salestrain_df_combined.loc[salestrain_df_combined['revenue'] == 734571.99999936, 'date'].values[0])"
      ],
      "execution_count": null,
      "outputs": []
    },
    {
      "cell_type": "code",
      "metadata": {
        "id": "7CwWaJYUVfue"
      },
      "source": [
        "# masking revenue numbers to show negative revenue\n",
        "# not sure how to have negative revenue\n",
        "# item returns?\n",
        "salestrain_neg_mask = salestrain_df_combined['revenue'] < 0\n",
        "salestrain_df_combined[salestrain_neg_mask].head(10)"
      ],
      "execution_count": null,
      "outputs": []
    },
    {
      "cell_type": "code",
      "metadata": {
        "id": "5uJEbpZSwvTw"
      },
      "source": [
        "# grouping revenue by month and rounding number\n",
        "monthly_group = salestrain_df_combined.groupby(by=['month'])\n",
        "monthly_group_sum = monthly_group['revenue'].sum().round()      \n",
        "monthly_group_sum                   "
      ],
      "execution_count": null,
      "outputs": []
    },
    {
      "cell_type": "code",
      "metadata": {
        "id": "yc0KkeSf2Gvh"
      },
      "source": [
        "# normalizing data for visualization\n",
        "monthly_group_norm = (monthly_group_sum - monthly_group_sum.mean()) / (monthly_group_sum.max() - monthly_group_sum.min())\n",
        "monthly_group_norm = abs(monthly_group_norm)\n",
        "monthly_group_norm"
      ],
      "execution_count": null,
      "outputs": []
    },
    {
      "cell_type": "code",
      "metadata": {
        "id": "FKV7y25_7nVN"
      },
      "source": [
        "# graphing normalized revenue\n",
        "# look at those december sales!!\n",
        "ax, fig = plt.subplots(figsize=(20,10))\n",
        "cols = ['Jan', 'Feb', 'Mar', 'Apr', 'May', 'Jun', 'Jul', 'Aug', 'Sep', 'Oct', 'Nov', 'Dec']\n",
        "plt.bar(cols, monthly_group_norm, color='red')\n",
        "plt.title('Normalized revenue by month')\n",
        "plt.show()"
      ],
      "execution_count": null,
      "outputs": []
    },
    {
      "cell_type": "code",
      "metadata": {
        "id": "lhLWOd8peBDd"
      },
      "source": [
        "# Plot total revenue by month for each year\n",
        "salestrain_df_combined.groupby(['month', 'year']).sum()['revenue'].unstack().plot(figsize=(20, 10))\n",
        "plt.xlabel('Month')\n",
        "plt.ylabel('Total Revenue')\n",
        "plt.show()"
      ],
      "execution_count": null,
      "outputs": []
    },
    {
      "cell_type": "markdown",
      "metadata": {
        "id": "JTYRFbtfgHzE"
      },
      "source": [
        "There are no sales spike on december 2015."
      ]
    },
    {
      "cell_type": "code",
      "metadata": {
        "id": "gIGvE9QA6Q-f"
      },
      "source": [
        "# creating list of top selling items\n",
        "top_items = [20949, 5822, 17717, 2808, 4181, 7856, 3732, 2308, 4870, 3734]\n",
        "\n",
        "# creating empty list to append to\n",
        "top_item_cols = []\n",
        "\n",
        "# loop to append item name based on top selling items\n",
        "for items in top_items:\n",
        "  top_item_cols.append(salestrain_df_combined.loc[salestrain_df_combined['item_id'] == items, 'item_name'].values[0])\n",
        "\n",
        "top_item_cols"
      ],
      "execution_count": null,
      "outputs": []
    },
    {
      "cell_type": "code",
      "metadata": {
        "id": "yf6ZXrBQeLa9"
      },
      "source": [
        "# Plot the top 10 most items sold\n",
        "fig, ax = plt.subplots(figsize=(20, 10))\n",
        "sns.countplot(y = 'item_id', hue = 'year', data = salestrain_df_combined, order = salestrain_df_combined['item_id'].value_counts().iloc[:10].index)\n",
        "ax.set_yticklabels(top_item_cols)\n",
        "plt.xlim(0, 20000)\n",
        "plt.xlabel('Sales of Sold Items')\n",
        "plt.ylabel('Item IDs')\n",
        "plt.show()"
      ],
      "execution_count": null,
      "outputs": []
    },
    {
      "cell_type": "code",
      "metadata": {
        "id": "bHw_JHDEDrkq"
      },
      "source": [
        "salestrain_df_combined['item_id'] == 20949"
      ],
      "execution_count": null,
      "outputs": []
    },
    {
      "cell_type": "code",
      "metadata": {
        "id": "OSjQtW30gLb5"
      },
      "source": [
        "plt.figure(figsize = (20, 10))\n",
        "sns.heatmap(salestrain_df_combined.corr(), cmap='Blues')\n",
        "plt.show()"
      ],
      "execution_count": null,
      "outputs": []
    },
    {
      "cell_type": "code",
      "metadata": {
        "id": "NmaqVg7Bi9tG"
      },
      "source": [
        "# plotting histogram of the price of items\n",
        "# some high ticket items, lots \n",
        "fig, ax = plt.subplots(figsize=(20, 10))\n",
        "sns.histplot(x='item_price', data=salestrain_df)\n",
        "plt.xlim(0, 4000)\n",
        "plt.title('Item price histogram')\n",
        "plt.show()"
      ],
      "execution_count": null,
      "outputs": []
    },
    {
      "cell_type": "markdown",
      "metadata": {
        "id": "G7AkQvgxBfXn"
      },
      "source": [
        "create item price bands to graph"
      ]
    },
    {
      "cell_type": "markdown",
      "metadata": {
        "id": "bqSMaSwVBSdM"
      },
      "source": [
        "whisker plot with yearly revenue?"
      ]
    },
    {
      "cell_type": "markdown",
      "metadata": {
        "id": "ZlU1y_1fIzMX"
      },
      "source": [
        "pair plot variation? diag_kind='hist'"
      ]
    },
    {
      "cell_type": "markdown",
      "metadata": {
        "id": "yYZBAY-bMJcF"
      },
      "source": [
        "sns.scatterplot"
      ]
    },
    {
      "cell_type": "markdown",
      "metadata": {
        "id": "icppcJg8DfzH"
      },
      "source": [
        "# Feature selection"
      ]
    },
    {
      "cell_type": "markdown",
      "metadata": {
        "id": "-vitZ_85DxmV"
      },
      "source": [
        "Make features for MA: 7, 30, 60, 90 days, season, month"
      ]
    },
    {
      "cell_type": "markdown",
      "metadata": {
        "id": "GQ1Wez84D6Uj"
      },
      "source": [
        "Convert into categorical - Store, Item"
      ]
    },
    {
      "cell_type": "code",
      "metadata": {
        "id": "N7Lubs0qDlR4"
      },
      "source": [
        "# item names with their revenue and sold count\n",
        "item_names = salestrain_df_combined.groupby('item_name').agg({'revenue':'sum', 'item_cnt_day':'count'}).reset_index().rename(columns={'item_name': 'Item Name', 'revenue': 'Revenue', 'item_cnt_day': 'Number of Sales'})\n",
        "item_names.head()"
      ],
      "execution_count": null,
      "outputs": []
    },
    {
      "cell_type": "code",
      "metadata": {
        "id": "y_YiIJRtEJcc"
      },
      "source": [
        "# top 10 items based on their revenue\n",
        "top10_revenue = item_names.nlargest(10, 'Revenue')\n",
        "\n",
        "fig, ax = plt.subplots(figsize=(20,10))\n",
        "sns.barplot(data=top10_revenue, hue='Number of Sales', x='Revenue', y='Item Name')\n",
        "plt.title(\"Top 10 Items based on Revenue including their Number of Sales\")\n",
        "plt.show()"
      ],
      "execution_count": null,
      "outputs": []
    },
    {
      "cell_type": "code",
      "metadata": {
        "id": "JvbCUMqTEaFb"
      },
      "source": [
        "# top 10 items based on their revenue\n",
        "top10_sales = item_names.nlargest(10, 'Number of Sales')\n",
        "\n",
        "fig, ax = plt.subplots(figsize=(20,10))\n",
        "sns.barplot(data=top10_sales, x='Number of Sales', y='Item Name', hue='Revenue')\n",
        "plt.title(\"Top 10 Items based on Sales including their Revenue\")\n",
        "plt.show()"
      ],
      "execution_count": null,
      "outputs": []
    },
    {
      "cell_type": "code",
      "metadata": {
        "id": "DFKnw4c8E0Pw"
      },
      "source": [
        "# category names and how many items in it.\n",
        "category_names = salestrain_df_combined.groupby(['item_category_name']).agg({'item_name':'count'}).reset_index().rename(columns={'item_category_name': 'Category Name','item_name': 'Number of Items'})\n",
        "category_names.head()"
      ],
      "execution_count": null,
      "outputs": []
    },
    {
      "cell_type": "code",
      "metadata": {
        "id": "vY8bs31bFH7Z"
      },
      "source": [
        "#Find total sales by item\n",
        "total_sales_by_item = salestrain_df_combined.groupby('item_id')['item_cnt_day'].sum().reset_index()\n",
        "\n",
        "#Sort descending\n",
        "total_sales_by_item.sort_values(by='item_cnt_day',ascending=False,inplace=True)\n",
        "total_sales_by_item.head()"
      ],
      "execution_count": null,
      "outputs": []
    },
    {
      "cell_type": "code",
      "metadata": {
        "id": "Z-dOSVpdFWUt"
      },
      "source": [
        "#Merge together so we can get item_name with total sales values\n",
        "total_sales_by_item_with_name = total_sales_by_item.merge(items_df[['item_name','item_id']],on='item_id')\n",
        "total_sales_by_item_with_name.head()"
      ],
      "execution_count": null,
      "outputs": []
    },
    {
      "cell_type": "code",
      "metadata": {
        "id": "RKxEl2U-GWQt"
      },
      "source": [
        "total_sales_by_item['item_cnt_day'].iloc[:10]"
      ],
      "execution_count": null,
      "outputs": []
    },
    {
      "cell_type": "code",
      "metadata": {
        "id": "WIcGTIpVFuba"
      },
      "source": [
        "# updated scatterplot showing top 20 best selling items day to day\n",
        "fig, ax = plt.subplots(figsize=(20,10))\n",
        "plt.scatter(y = total_sales_by_item['item_cnt_day'].iloc[:20], x = total_sales_by_item['item_id'].iloc[:20])\n",
        "plt.xlabel('Item ID')\n",
        "plt.ylabel('Item count per day')\n",
        "plt.show()"
      ],
      "execution_count": null,
      "outputs": []
    },
    {
      "cell_type": "markdown",
      "metadata": {
        "id": "MchAi0wABchP"
      },
      "source": [
        "##Recommendation Engine"
      ]
    },
    {
      "cell_type": "code",
      "metadata": {
        "id": "BiT7a3a6Fwnz"
      },
      "source": [
        "# Get sales by item, by date - again, not very exciting,so I also used fillna()\n",
        "sales_totals_by_day = salestrain_df_combined.pivot_table(index='item_id',columns=['year', 'month', 'day'],values='item_cnt_day').fillna(0)"
      ],
      "execution_count": null,
      "outputs": []
    },
    {
      "cell_type": "code",
      "metadata": {
        "id": "fDvgXPlkF80W"
      },
      "source": [
        "# Clean up the multi-level index\n",
        "sales_totals_by_day.columns = sales_totals_by_day.columns.droplevel().droplevel()"
      ],
      "execution_count": null,
      "outputs": []
    },
    {
      "cell_type": "code",
      "metadata": {
        "id": "aAQ_Imf3GEaq"
      },
      "source": [
        "sales_totals_by_day.head()"
      ],
      "execution_count": null,
      "outputs": []
    },
    {
      "cell_type": "code",
      "metadata": {
        "id": "Z37oDt15GHZ-"
      },
      "source": [
        "# Shape of the resulting DF - items x days\n",
        "sales_totals_by_day.shape"
      ],
      "execution_count": null,
      "outputs": []
    },
    {
      "cell_type": "code",
      "metadata": {
        "id": "EfZEnry-GMEt"
      },
      "source": [
        "#Transpose this\n",
        "sales_totals_by_day_transposed = sales_totals_by_day.transpose()"
      ],
      "execution_count": null,
      "outputs": []
    },
    {
      "cell_type": "code",
      "metadata": {
        "id": "_YhaC0WUGRlS"
      },
      "source": [
        "sales_totals_by_day_transposed.head()"
      ],
      "execution_count": null,
      "outputs": []
    },
    {
      "cell_type": "code",
      "metadata": {
        "id": "SYr1HT2nGXOO"
      },
      "source": [
        "# Recommendation engine - find the closest matches to an item in terms of daily sales\n",
        "# Similar to finding similar movies based on movie rating\n",
        "\n",
        "#Select a popular item\n",
        "selected_item = 2808"
      ],
      "execution_count": null,
      "outputs": []
    },
    {
      "cell_type": "code",
      "metadata": {
        "id": "kp9PZsfWGd6c"
      },
      "source": [
        "#Pull out the column of that day's sales\n",
        "selected_item_sales = sales_totals_by_day_transposed[selected_item]"
      ],
      "execution_count": null,
      "outputs": []
    },
    {
      "cell_type": "code",
      "metadata": {
        "id": "PG2LdGkoGhsE"
      },
      "source": [
        "#Run correlation with every other column to find similar sales patterns\n",
        "similarItems = sales_totals_by_day_transposed.corrwith(selected_item_sales)"
      ],
      "execution_count": null,
      "outputs": []
    },
    {
      "cell_type": "code",
      "metadata": {
        "id": "yK2VKoiAGk9f"
      },
      "source": [
        "#Convert from a series to a DF\n",
        "similarItems_df = pd.DataFrame(similarItems)"
      ],
      "execution_count": null,
      "outputs": []
    },
    {
      "cell_type": "code",
      "metadata": {
        "id": "DRHV_bUZGpID"
      },
      "source": [
        "similarItems_df.head()"
      ],
      "execution_count": null,
      "outputs": []
    },
    {
      "cell_type": "code",
      "metadata": {
        "id": "gnx0ETi9Gsg5"
      },
      "source": [
        "#Rename columns\n",
        "similarItems_df.columns=['similarity']"
      ],
      "execution_count": null,
      "outputs": []
    },
    {
      "cell_type": "code",
      "metadata": {
        "id": "tgPgvfqFGvcE"
      },
      "source": [
        "similarItems_df.head()"
      ],
      "execution_count": null,
      "outputs": []
    },
    {
      "cell_type": "code",
      "metadata": {
        "id": "hKcstmtOGyel"
      },
      "source": [
        "#Merge back item names\n",
        "similarItems_df=similarItems_df.merge(items_df[['item_name','item_id']],left_index=True,right_on='item_id')"
      ],
      "execution_count": null,
      "outputs": []
    },
    {
      "cell_type": "code",
      "metadata": {
        "id": "OsvnieMlG2bR"
      },
      "source": [
        "#Sort\n",
        "similarItems_df_sorted=similarItems_df.sort_values(by='similarity',ascending=False)"
      ],
      "execution_count": null,
      "outputs": []
    },
    {
      "cell_type": "code",
      "metadata": {
        "id": "8HM_oJ7AG5u-"
      },
      "source": [
        "#The top results for item 2808 seem to make some sense (games), but they also include programming books and other things-inconclusive?\n",
        "similarItems_df_sorted.head(20)"
      ],
      "execution_count": null,
      "outputs": []
    },
    {
      "cell_type": "code",
      "metadata": {
        "id": "V6lqZ6_wG9gP"
      },
      "source": [
        "#Function to return the values:\n",
        "\n",
        "def find_similar_based_on_daily_sales(selected_item,sales_totals_by_day_transposed=sales_totals_by_day_transposed):\n",
        "    selected_item_sales=sales_totals_by_day_transposed[selected_item]\n",
        "    similarItems = sales_totals_by_day_transposed.corrwith(selected_item_sales)\n",
        "    similarItems_df=pd.DataFrame(similarItems)\n",
        "    similarItems_df.columns=['similarity']\n",
        "    similarItems_df=similarItems_df.merge(items_df[['item_name','item_id']],left_index=True,right_on='item_id')\n",
        "    similarItems_df_sorted=similarItems_df.sort_values(by='similarity',ascending=False)\n",
        "    print(similarItems_df_sorted.head(20))"
      ],
      "execution_count": null,
      "outputs": []
    },
    {
      "cell_type": "code",
      "metadata": {
        "id": "u_lBhDouHBSe"
      },
      "source": [
        "find_similar_based_on_daily_sales(2808)"
      ],
      "execution_count": null,
      "outputs": []
    },
    {
      "cell_type": "code",
      "metadata": {
        "id": "UFqJ3ofRHEze"
      },
      "source": [
        "#What is similar to those corporate T-shirts?\n",
        "find_similar_based_on_daily_sales(20949)"
      ],
      "execution_count": null,
      "outputs": []
    },
    {
      "cell_type": "code",
      "metadata": {
        "id": "PnVK8ybLHMNA"
      },
      "source": [
        "#What is similar to minecraft?\n",
        "find_similar_based_on_daily_sales(4870)"
      ],
      "execution_count": null,
      "outputs": []
    },
    {
      "cell_type": "code",
      "metadata": {
        "id": "TVhvqxxgHUKd"
      },
      "source": [
        "#This item averaged 5 sales per day, max of 35, so it wasn't distorted by one overwhelmingly high corporate order\n",
        "sales_totals_by_day_transposed[20949].describe()"
      ],
      "execution_count": null,
      "outputs": []
    },
    {
      "cell_type": "markdown",
      "metadata": {
        "id": "jKVDe7cmG5wH"
      },
      "source": [
        "## Rolling window K-fold cross-validation"
      ]
    },
    {
      "cell_type": "code",
      "metadata": {
        "id": "K1PZjrYqLL3H"
      },
      "source": [
        "salestrain_df_combined.columns"
      ],
      "execution_count": null,
      "outputs": []
    },
    {
      "cell_type": "code",
      "metadata": {
        "id": "mI3YIdocOH1e"
      },
      "source": [
        "# setting X as date col and y as revenue col to be split\n",
        "X = salestrain_df_combined['date']\n",
        "y = salestrain_df_combined['revenue']"
      ],
      "execution_count": null,
      "outputs": []
    },
    {
      "cell_type": "code",
      "metadata": {
        "id": "_CiMrixpKjhM"
      },
      "source": [
        "# creating the time series split, one split for every month in the year\n",
        "tscv = TimeSeriesSplit(n_splits = 12)"
      ],
      "execution_count": null,
      "outputs": []
    },
    {
      "cell_type": "code",
      "metadata": {
        "id": "WXSW46VaL7g8"
      },
      "source": [
        "# looping through every time series split \n",
        "for train_index, test_index in tscv.split(X):\n",
        "  print(f'TRAIN SHAPE: {train_index.shape} TEST SHAPE: {test_index.shape}')\n",
        "  X_train, X_test = X[train_index], X[test_index]\n",
        "  y_train, y_test = y[train_index], y[train_index]"
      ],
      "execution_count": null,
      "outputs": []
    },
    {
      "cell_type": "markdown",
      "metadata": {
        "id": "O6TAj7fUryKg"
      },
      "source": [
        "## Removing features with low variance"
      ]
    },
    {
      "cell_type": "code",
      "metadata": {
        "id": "U4ivXmd-2x5T"
      },
      "source": [
        "salestrain_df_combined.columns"
      ],
      "execution_count": null,
      "outputs": []
    },
    {
      "cell_type": "code",
      "metadata": {
        "id": "AsjTfbrl2UIe"
      },
      "source": [
        "train_set = salestrain_df_combined.drop(columns = ['revenue'])"
      ],
      "execution_count": null,
      "outputs": []
    },
    {
      "cell_type": "code",
      "metadata": {
        "id": "D7tGpOca4V3a"
      },
      "source": [
        "# mapping date col to ordinal for use with VarianceThreshold\n",
        "train_set['date'] = train_set['date'].map(dt.datetime.toordinal)"
      ],
      "execution_count": null,
      "outputs": []
    },
    {
      "cell_type": "code",
      "metadata": {
        "id": "cmXty02xZTXk"
      },
      "source": [
        "for col in ['item_name', 'item_category_name', 'shop_name']:\n",
        "   train_set[col] = LabelEncoder().fit_transform(train_set[col])"
      ],
      "execution_count": null,
      "outputs": []
    },
    {
      "cell_type": "code",
      "metadata": {
        "id": "tCA_TBnX28L-"
      },
      "source": [
        "test_set = salestrain_df_combined['revenue']"
      ],
      "execution_count": null,
      "outputs": []
    },
    {
      "cell_type": "code",
      "metadata": {
        "id": "dnKtJvYF3Ick"
      },
      "source": [
        "train_set.dtypes"
      ],
      "execution_count": null,
      "outputs": []
    },
    {
      "cell_type": "code",
      "metadata": {
        "id": "rcQ81fFb3IpB"
      },
      "source": [
        "test_set.shape"
      ],
      "execution_count": null,
      "outputs": []
    },
    {
      "cell_type": "code",
      "metadata": {
        "id": "4AzdTXaCsUVS"
      },
      "source": [
        "# creating the Variance Threshold and setting variance to 10 -> can mess around with this number\n",
        "threshold = VarianceThreshold(threshold = 10)"
      ],
      "execution_count": null,
      "outputs": []
    },
    {
      "cell_type": "code",
      "metadata": {
        "id": "PiSFnJqHsfKE"
      },
      "source": [
        "# fit transforming variance threshold to train set\n",
        "high_variance = threshold.fit(train_set)"
      ],
      "execution_count": null,
      "outputs": []
    },
    {
      "cell_type": "code",
      "metadata": {
        "id": "qrjzkTlTlJu8"
      },
      "source": [
        "# seeing which cols do not have high variance\n",
        "train_set.columns[high_variance.get_support()]"
      ],
      "execution_count": null,
      "outputs": []
    },
    {
      "cell_type": "code",
      "metadata": {
        "id": "IXytUrgIlIbO"
      },
      "source": [
        "# seeing which cols have low variance\n",
        "constant_cols = [column for column in train_set.columns if column not in train_set.columns[high_variance.get_support()]]\n",
        "print(f'The columns with low(ish) variance is: {constant_cols}')"
      ],
      "execution_count": null,
      "outputs": []
    },
    {
      "cell_type": "markdown",
      "metadata": {
        "id": "MgETveekchhL"
      },
      "source": [
        "All of our features have high variance, therefore they don't have to be removed."
      ]
    },
    {
      "cell_type": "markdown",
      "metadata": {
        "id": "_by84Y8SBuKb"
      },
      "source": [
        "## K-Means clustering"
      ]
    },
    {
      "cell_type": "code",
      "metadata": {
        "id": "ARJFxi8_CWGO"
      },
      "source": [
        "#salestrain_df.head()\n",
        "salestrain_df = salestrain_df.drop('date', axis=1)"
      ],
      "execution_count": null,
      "outputs": []
    },
    {
      "cell_type": "code",
      "metadata": {
        "id": "awK01tfoCYJg"
      },
      "source": [
        "salestrain_df.head(10)"
      ],
      "execution_count": null,
      "outputs": []
    },
    {
      "cell_type": "code",
      "metadata": {
        "id": "3u3UQVVZCbAP"
      },
      "source": [
        "# Create scaler: scaler\n",
        "scaler = StandardScaler()\n",
        "\n",
        "# Create KMeans instance: kmeans\n",
        "kmeans = KMeans(n_clusters=4)\n",
        "\n",
        "# Create pipeline: pipeline\n",
        "pipeline = make_pipeline(scaler, kmeans)\n",
        "\n",
        "# Fit the pipeline to samples\n",
        "pipeline.fit(np.array(salestrain_df))\n",
        "\n",
        "# Calculate the cluster labels: labels\n",
        "labels = pipeline.predict(salestrain_df)\n",
        "\n",
        "# Create a DataFrame with labels and prices as columns: salestrain_df\n",
        "#salestrain_df = pd.DataFrame({'item_price': item_price, 'item_cnt_day': item_cnt_day})\n",
        "\n",
        "# Create crosstab: ct\n",
        "ct = pd.crosstab(salestrain_df['item_price'], salestrain_df['item_cnt_day'])\n",
        "\n",
        "# Display ct\n",
        "print(ct.sort_values('item_price'))"
      ],
      "execution_count": null,
      "outputs": []
    },
    {
      "cell_type": "code",
      "metadata": {
        "id": "zewAZXosCzvK"
      },
      "source": [
        "# plotting clusters\n",
        "plt.figure(figsize=(20, 10))\n",
        "plt.plot(ct)\n",
        "plt.show()"
      ],
      "execution_count": null,
      "outputs": []
    },
    {
      "cell_type": "code",
      "metadata": {
        "id": "icKqBH3IBzXZ"
      },
      "source": [
        "# reshaping values to workable vector\n",
        "dfx = salestrain_df.values.reshape(1, -1)\n",
        "dfy = salestrain_df.values.reshape(1, -1)"
      ],
      "execution_count": null,
      "outputs": []
    },
    {
      "cell_type": "code",
      "metadata": {
        "id": "GFHmuApiCDoK"
      },
      "source": [
        "# WHY DELETING?\n",
        "\n",
        "# delete part 1\n",
        "#dfx = np.delete(dfx, 0)\n",
        "#dfy = np.delete(dfy, 0)"
      ],
      "execution_count": null,
      "outputs": []
    },
    {
      "cell_type": "code",
      "metadata": {
        "id": "Xe_8QVcoCDvA"
      },
      "source": [
        "# WHY DELETING?\n",
        "\n",
        "# delete part 2\n",
        "#dfx = np.delete(dfx, 1)\n",
        "#dfy = np.delete(dfy, 1)"
      ],
      "execution_count": null,
      "outputs": []
    },
    {
      "cell_type": "code",
      "metadata": {
        "id": "E-h2T_fcC3h7"
      },
      "source": [
        "print(f'dfx shape: {dfx.shape}')\n",
        "print(f'dfy shape: {dfy.shape}')"
      ],
      "execution_count": null,
      "outputs": []
    },
    {
      "cell_type": "code",
      "metadata": {
        "id": "x8ht_Z5PC7lL"
      },
      "source": [
        "# setting variables train test split\n",
        "X = dfx\n",
        "y = dfy\n",
        "\n",
        "# running logistic regression baseline\n",
        "logreg =  LogisticRegression()\n",
        "X_train, y_train, X_test, y_test = train_test_split(X, y, test_size=0.3, random_state=42)"
      ],
      "execution_count": null,
      "outputs": []
    },
    {
      "cell_type": "code",
      "metadata": {
        "id": "bLPLECshxVxN"
      },
      "source": [
        "# checking train, test shapes\n",
        "print(f'X_train shape: {X_train.shape}')\n",
        "print(f'y_train shape: {y_train.shape}')\n",
        "print(f'X_test shape: {X_test.shape}')\n",
        "print(f'y_test shape: {y_test.shape}')"
      ],
      "execution_count": null,
      "outputs": []
    },
    {
      "cell_type": "code",
      "metadata": {
        "id": "FKNqiZsDw9np"
      },
      "source": [
        "#\n",
        "logreg.fit(X_train, y_train)\n",
        "y_pred =logreg.predict(X_test)\n",
        "\n",
        "print(confusion_matrix(y_test, y_pred))\n",
        "print(classification_report(y_test, y_pred))"
      ],
      "execution_count": null,
      "outputs": []
    },
    {
      "cell_type": "code",
      "metadata": {
        "id": "9Yaxr4kiDGys"
      },
      "source": [
        "clf = linear_model.Lasso(alpha=0.1)\n",
        "clf.fit(X_train, y_train)\n",
        "clf.predict(X_test)\n",
        "print(confusion_matrix(y_test, y_pred))\n",
        "print(classification_report(y_test, y_pred))"
      ],
      "execution_count": null,
      "outputs": []
    },
    {
      "cell_type": "markdown",
      "metadata": {
        "id": "LErutUyxRu51"
      },
      "source": [
        "## Categorical features OHE"
      ]
    },
    {
      "cell_type": "code",
      "metadata": {
        "id": "3e7vSuc3R09Q"
      },
      "source": [
        "salestrain_df_combined.columns"
      ],
      "execution_count": null,
      "outputs": []
    },
    {
      "cell_type": "code",
      "metadata": {
        "id": "N6LY0V2QScWr"
      },
      "source": [
        "salestrain_df_combined.head()"
      ],
      "execution_count": null,
      "outputs": []
    },
    {
      "cell_type": "code",
      "metadata": {
        "id": "_f7CoH79Sk8A"
      },
      "source": [
        "salestrain_df_combined.dtypes"
      ],
      "execution_count": null,
      "outputs": []
    },
    {
      "cell_type": "code",
      "metadata": {
        "id": "xuRk7wCZV2WQ"
      },
      "source": [
        "salestrain_df_ohe = salestrain_df_combined.select_dtypes(include=[object])\n",
        "salestrain_df_ohe.head()"
      ],
      "execution_count": null,
      "outputs": []
    },
    {
      "cell_type": "code",
      "metadata": {
        "id": "OpcZI5eYWJzV"
      },
      "source": [
        "salestrain_df_combined.shape"
      ],
      "execution_count": null,
      "outputs": []
    },
    {
      "cell_type": "markdown",
      "metadata": {
        "id": "DfTzu7o8S7t1"
      },
      "source": [
        "\n",
        "# good resources\n",
        "https://scikit-learn.org/stable/modules/generated/sklearn.preprocessing.OneHotEncoder.html\n",
        "\n",
        "https://www.ritchieng.com/machinelearning-one-hot-encoding/\n",
        "\n",
        "https://towardsdatascience.com/categorical-encoding-using-label-encoding-and-one-hot-encoder-911ef77fb5bd"
      ]
    }
  ]
}