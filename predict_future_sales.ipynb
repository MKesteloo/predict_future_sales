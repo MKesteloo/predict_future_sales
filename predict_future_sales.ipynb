{
 "cells": [
  {
   "cell_type": "markdown",
   "metadata": {
    "colab_type": "text",
    "id": "view-in-github"
   },
   "source": [
    "<a href=\"https://colab.research.google.com/github/cmannnn/predict_future_sales/blob/main/predict_future_sales.ipynb\" target=\"_parent\"><img src=\"https://colab.research.google.com/assets/colab-badge.svg\" alt=\"Open In Colab\"/></a>"
   ]
  },
  {
   "cell_type": "markdown",
   "metadata": {
    "id": "U4SoFslGfRpJ"
   },
   "source": [
    "# Predict Future Sales"
   ]
  },
  {
   "cell_type": "markdown",
   "metadata": {
    "id": "DJaaDvndfbOO"
   },
   "source": [
    "You are provided with daily historical sales data. The task is to forecast the total amount of products sold in every shop for the test set. Note that the list of shops and products slightly changes every month. Creating a robust model that can handle such situations is part of the challenge."
   ]
  },
  {
   "cell_type": "markdown",
   "metadata": {
    "id": "7GwxSxIkblYe"
   },
   "source": [
    "# File descriptions"
   ]
  },
  {
   "cell_type": "code",
   "execution_count": null,
   "metadata": {
    "colab": {
     "base_uri": "https://localhost:8080/"
    },
    "id": "PpAc3j6Eb2hI",
    "outputId": "099a8f61-b0b9-4808-af7f-d8103bffc7da"
   },
   "outputs": [],
   "source": [
    "from google.colab import drive\n",
    "drive.mount('/content/drive')"
   ]
  },
  {
   "cell_type": "markdown",
   "metadata": {
    "id": "pj9IqueibjQL"
   },
   "source": [
    "itemcats_df - supplemental information about the items categories.\n",
    "\n",
    "items_df - supplemental information about the items/products.\n",
    "\n",
    "salestrain_df - the training set. Daily historical data from January 2013 to October 2015.\n",
    "\n",
    "shops_df - supplemental information about the shops.\n",
    "\n",
    "test.csv - the test set. You need to forecast the sales for these shops and products for November 2015.\n",
    "\n",
    "sample_submission.csv - a sample submission file in the correct format."
   ]
  },
  {
   "cell_type": "markdown",
   "metadata": {
    "id": "j-UxcjnUffCN"
   },
   "source": [
    "# Imports and uploads"
   ]
  },
  {
   "cell_type": "code",
   "execution_count": null,
   "metadata": {
    "id": "XTSLNlmdd5lX"
   },
   "outputs": [],
   "source": [
    "# imports\n",
    "import os\n",
    "\n",
    "import pandas as pd\n",
    "import matplotlib.pyplot as plt\n",
    "import numpy as np\n",
    "import seaborn as sns\n",
    "\n",
    "import datetime as dt\n",
    "\n",
    "#import specific sklearn packages\n",
    "from sklearn.model_selection import train_test_split\n",
    "from sklearn.model_selection import TimeSeriesSplit\n",
    "\n",
    "#encoders, tested several of them\n",
    "from sklearn.preprocessing import OrdinalEncoder\n",
    "from sklearn.preprocessing import LabelEncoder\n",
    "from sklearn.preprocessing import OneHotEncoder\n",
    "\n",
    "from sklearn.preprocessing import MinMaxScaler\n",
    "from sklearn.preprocessing import StandardScaler\n",
    "\n",
    "from sklearn.feature_selection import VarianceThreshold\n",
    "\n",
    "from sklearn.metrics import classification_report\n",
    "from sklearn.metrics import confusion_matrix\n",
    "\n",
    "from sklearn.pipeline import make_pipeline\n",
    "\n",
    "from sklearn.cluster import KMeans\n",
    "\n",
    "from sklearn.linear_model import LogisticRegression\n",
    "\n",
    "from sklearn import linear_model"
   ]
  },
  {
   "cell_type": "code",
   "execution_count": null,
   "metadata": {
    "id": "PFj3ad_MNaoz"
   },
   "outputs": [],
   "source": [
    "#!pip install kaggle"
   ]
  },
  {
   "cell_type": "code",
   "execution_count": null,
   "metadata": {
    "colab": {
     "base_uri": "https://localhost:8080/",
     "height": 91,
     "resources": {
      "http://localhost:8080/nbextensions/google.colab/files.js": {
       "data": "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",
       "headers": [
        [
         "content-type",
         "application/javascript"
        ]
       ],
       "ok": true,
       "status": 200,
       "status_text": ""
      }
     }
    },
    "id": "wezZf71jNjPJ",
    "outputId": "c014472b-7011-4f22-f8ce-4b3b65537949"
   },
   "outputs": [],
   "source": [
    "# UPLOAD YOUR kaggle.json KEY HERE\n",
    "\n",
    "from google.colab import files\n",
    "\n",
    "uploaded = files.upload()\n",
    "\n",
    "for fn in uploaded.keys():\n",
    "  print('User uploaded file \"{name}\" with length {length} bytes'.format(\n",
    "      name=fn, length=len(uploaded[fn])))\n",
    "\n",
    "\n",
    "!mkdir -p ~/.kaggle/ && mv kaggle.json ~/.kaggle/ && chmod 600 ~/.kaggle/kaggle.json"
   ]
  },
  {
   "cell_type": "code",
   "execution_count": null,
   "metadata": {
    "colab": {
     "base_uri": "https://localhost:8080/"
    },
    "id": "cfWv-b5DuSu5",
    "outputId": "f164353f-1d1e-40f6-8466-4bdfe44d81ce"
   },
   "outputs": [],
   "source": [
    "print('This if for the Jupyter Fam')"
   ]
  },
  {
   "cell_type": "code",
   "execution_count": null,
   "metadata": {
    "colab": {
     "base_uri": "https://localhost:8080/"
    },
    "id": "j5MjpqkNOGj8",
    "outputId": "69ea35bd-6ee6-4b2c-af35-77003a9a6154"
   },
   "outputs": [],
   "source": [
    "!kaggle competitions list"
   ]
  },
  {
   "cell_type": "code",
   "execution_count": null,
   "metadata": {
    "id": "UDUtQqcJYNLt"
   },
   "outputs": [],
   "source": [
    "!mkdir -p predict_future_sales"
   ]
  },
  {
   "cell_type": "code",
   "execution_count": null,
   "metadata": {
    "colab": {
     "base_uri": "https://localhost:8080/",
     "height": 248,
     "resources": {
      "http://localhost:8080/nbextensions/google.colab/files.js": {
       "data": "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",
       "headers": [
        [
         "content-type",
         "application/javascript"
        ]
       ],
       "ok": true,
       "status": 200,
       "status_text": ""
      }
     }
    },
    "id": "Wgoyloq3NmIX",
    "outputId": "9340b19d-4b20-4ea8-af8b-fed90bba34a1"
   },
   "outputs": [],
   "source": [
    "# UPLOAD 6 FILES HERE\n",
    "uploaded2 = files.upload()"
   ]
  },
  {
   "cell_type": "code",
   "execution_count": null,
   "metadata": {
    "id": "0o_BHflNj8B0"
   },
   "outputs": [],
   "source": [
    "!cp test.csv predict_future_sales/\n",
    "!cp item_categories.csv predict_future_sales/\n",
    "!cp items.csv predict_future_sales/\n",
    "!cp sales_train.csv predict_future_sales/\n",
    "!cp sample_submission.csv predict_future_sales/\n",
    "!cp shops.csv predict_future_sales/\n",
    "!cp test.csv predict_future_sales/"
   ]
  },
  {
   "cell_type": "markdown",
   "metadata": {
    "id": "4mY4s3UubFhz"
   },
   "source": [
    "# Importing All Predict Sales Data"
   ]
  },
  {
   "cell_type": "code",
   "execution_count": null,
   "metadata": {
    "id": "CwqnebRuocPf"
   },
   "outputs": [],
   "source": [
    "#importing all the data frames\n",
    "itemcats_df = pd.read_csv(\"predict_future_sales/item_categories.csv\") #Item Categories\n",
    "items_df = pd.read_csv(\"predict_future_sales/items.csv\") # Items\n",
    "salestrain_df = pd.read_csv(\"predict_future_sales/sales_train.csv\") #Sales Data - Training\n",
    "shops_df = pd.read_csv(\"predict_future_sales/shops.csv\") # Shops"
   ]
  },
  {
   "cell_type": "code",
   "execution_count": null,
   "metadata": {
    "id": "zkKM_5O-LcE5"
   },
   "outputs": [],
   "source": [
    "# sample submission dataframe\n",
    "sample_df = pd.read_csv('predict_future_sales/sample_submission.csv')\n",
    "\n",
    "# test data frame\n",
    "test_df = pd.read_csv('predict_future_sales/test.csv')"
   ]
  },
  {
   "cell_type": "markdown",
   "metadata": {
    "id": "2JVZ-b2LbqjR"
   },
   "source": [
    "# Data EDA"
   ]
  },
  {
   "cell_type": "code",
   "execution_count": null,
   "metadata": {
    "id": "lg8_zM9rbRsN"
   },
   "outputs": [],
   "source": [
    "# creating a master list of all dataframes\n",
    "df_list = [itemcats_df, items_df, salestrain_df, shops_df]"
   ]
  },
  {
   "cell_type": "code",
   "execution_count": null,
   "metadata": {
    "colab": {
     "base_uri": "https://localhost:8080/"
    },
    "id": "kFrFewFkbvdB",
    "outputId": "b44a5e14-95a1-4626-fd85-721557c45990"
   },
   "outputs": [],
   "source": [
    "# creating a loop to print head, description, info, and null sum for each datafram in master list \n",
    "for df in df_list:\n",
    "    print(f'DATAFRAME HEAD: {df.head()}')\n",
    "    print('-----------------------')\n",
    "    print(f'DATAFRAME DESCRIPTION: {df.describe()}')\n",
    "    print('-----------------------')\n",
    "    print(f'DATAFAME INFO: {df.info()}')\n",
    "    print('-----------------------')\n",
    "    print(f'DATAFRAME NULL SUM: {df.isnull().sum()}')\n",
    "    print('------------------------------------------------------------------------------')"
   ]
  },
  {
   "cell_type": "code",
   "execution_count": null,
   "metadata": {
    "colab": {
     "base_uri": "https://localhost:8080/"
    },
    "id": "gAaoFHoIcBDg",
    "outputId": "7b759ef0-a26e-45ee-9f96-1e1414a005d3"
   },
   "outputs": [],
   "source": [
    "# checking itemcats_df column data types\n",
    "itemcats_df.dtypes"
   ]
  },
  {
   "cell_type": "code",
   "execution_count": null,
   "metadata": {
    "colab": {
     "base_uri": "https://localhost:8080/"
    },
    "id": "B-iFIwgBcC66",
    "outputId": "725ef53c-cd71-4c45-ba37-042667c884d4"
   },
   "outputs": [],
   "source": [
    "# checking item_df column data types\n",
    "items_df.dtypes"
   ]
  },
  {
   "cell_type": "code",
   "execution_count": null,
   "metadata": {
    "colab": {
     "base_uri": "https://localhost:8080/"
    },
    "id": "mtdzLWs9cF9B",
    "outputId": "0b2b6548-f4d1-4658-b281-03a4578630d4"
   },
   "outputs": [],
   "source": [
    "# checking salestrain_df data types\n",
    "salestrain_df.dtypes"
   ]
  },
  {
   "cell_type": "code",
   "execution_count": null,
   "metadata": {
    "id": "BZfrZjc7cMde"
   },
   "outputs": [],
   "source": [
    "# changing salestrain 'item_cnt_day' col from float64 -> int16\n",
    "salestrain_df['item_cnt_day'] = pd.to_numeric(salestrain_df['item_cnt_day'], downcast='signed')"
   ]
  },
  {
   "cell_type": "code",
   "execution_count": null,
   "metadata": {
    "id": "u8_43wo0cole"
   },
   "outputs": [],
   "source": [
    "# changing salestrain 'date' col from object -> datetime\n",
    "salestrain_df['date'] = pd.to_datetime(salestrain_df['date'])"
   ]
  },
  {
   "cell_type": "code",
   "execution_count": null,
   "metadata": {
    "colab": {
     "base_uri": "https://localhost:8080/"
    },
    "id": "mxdsCpTYcrRd",
    "outputId": "e0df181a-6618-4d81-cdcb-c003e52bde30"
   },
   "outputs": [],
   "source": [
    "shops_df.dtypes"
   ]
  },
  {
   "cell_type": "code",
   "execution_count": null,
   "metadata": {},
   "outputs": [],
   "source": [
    "# the df info showed some items with negative price, check them here\n",
    "salestrain_df[salestrain_df['item_price'] < 0]"
   ]
  },
  {
   "cell_type": "code",
   "execution_count": null,
   "metadata": {},
   "outputs": [],
   "source": [
    "# this item is a game, released in 2013, so very unlikely that price is negative: change price to median price of this item in the same date_block_num\n",
    "salestrain_df.loc[salestrain_df['item_price'] < 0, 'item_price'] = salestrain_df[(salestrain_df['item_price'] > 0) & (salestrain_df['date_block_num'] == 4) & \n",
    "                                                                                                           (salestrain_df['item_id'] == 2973)]['item_price'].median()"
   ]
  },
  {
   "cell_type": "markdown",
   "metadata": {
    "id": "uHVIBl7Xcv4E"
   },
   "source": [
    "# Combine DFs"
   ]
  },
  {
   "cell_type": "code",
   "execution_count": null,
   "metadata": {
    "id": "BjnsHvz1cuOO"
   },
   "outputs": [],
   "source": [
    "# combining training dataframes into master training set\n",
    "salestrain_df_combined = salestrain_df.merge(items_df,on='item_id')\n",
    "salestrain_df_combined = salestrain_df_combined.merge(itemcats_df,on='item_category_id')\n",
    "salestrain_df_combined = salestrain_df_combined.merge(shops_df,on='shop_id')"
   ]
  },
  {
   "cell_type": "code",
   "execution_count": null,
   "metadata": {
    "colab": {
     "base_uri": "https://localhost:8080/"
    },
    "id": "Jtr7A6KXc0m0",
    "outputId": "9102f4d4-af18-41dc-d7eb-8bf254fb0cee"
   },
   "outputs": [],
   "source": [
    "salestrain_df_combined.isnull().sum()"
   ]
  },
  {
   "cell_type": "code",
   "execution_count": null,
   "metadata": {
    "id": "syHw5OsIc4h6"
   },
   "outputs": [],
   "source": [
    "# setting the id col, and 2 target cols based on testing data\n",
    "id_col, target_col_item, target_col_shop = salestrain_df.index, salestrain_df_combined['item_id'], salestrain_df_combined['shop_id']"
   ]
  },
  {
   "cell_type": "markdown",
   "metadata": {},
   "source": [
    "# Outliers\n",
    "Based on the information from salestrain_df, the max price of some items is insanely high. In addition, quantity of items sold on one day is extremely high for some items. These particular rows are investigated in more detail."
   ]
  },
  {
   "cell_type": "code",
   "execution_count": null,
   "metadata": {},
   "outputs": [],
   "source": [
    "# checking outliers for quantity of items sold per day\n",
    "plt.figure(figsize = (20, 10))\n",
    "sns.boxplot(x=salestrain_df_combined['item_cnt_day'])\n",
    "plt.ylabel('Number of items sold per day')\n",
    "plt.title('Boxplot for checking outliers for number of items sold per day')\n",
    "\n",
    "# checking outliers for item prices\n",
    "plt.figure(figsize = (20, 10))\n",
    "sns.boxplot(x=salestrain_df_combined['item_price'])\n",
    "plt.ylabel('Number of items sold per day')\n",
    "plt.title('Boxplot for checking outliers for number of items sold per day')"
   ]
  },
  {
   "cell_type": "code",
   "execution_count": null,
   "metadata": {},
   "outputs": [],
   "source": [
    "# boxplot shows quantity for 1 particular sale is very high. Check all sales where quantity is bigger than 500\n",
    "# can imagine that one shop has 2169 deliveries at some peak days or some companies buying 1000 t-shirts\n",
    "salestrain_df_combined[salestrain_df_combined['item_cnt_day'] > 500]"
   ]
  },
  {
   "cell_type": "code",
   "execution_count": null,
   "metadata": {},
   "outputs": [],
   "source": [
    "# boxplot shows price for one item is very high, check all items above 40000\n",
    "# most expensive item is a license for some software package (VPN remote working) for 522 users (roughly 4000 US dollars)\n",
    "salestrain_df_combined[salestrain_df_combined['item_price'] > 40000]"
   ]
  },
  {
   "cell_type": "code",
   "execution_count": null,
   "metadata": {},
   "outputs": [],
   "source": [
    "# for now, remove the row with the license for software package and any sale with quantity more or equal to 1000, discuss this next meeting\n",
    "salestrain_df_combined = salestrain_df_combined[(salestrain_df_combined['item_cnt_day'] < 1000) & (salestrain_df_combined['item_price'] < 300000)]"
   ]
  },
  {
   "cell_type": "markdown",
   "metadata": {
    "id": "bOxMQcL9dMuu"
   },
   "source": [
    "# Data Viz"
   ]
  },
  {
   "cell_type": "code",
   "execution_count": null,
   "metadata": {
    "colab": {
     "base_uri": "https://localhost:8080/",
     "height": 204
    },
    "id": "5LH4oZ8mdLNt",
    "outputId": "3d0f8069-1236-457b-8b87-9ee2edbdc45d"
   },
   "outputs": [],
   "source": [
    "# adding features for separating date\n",
    "salestrain_df_combined['year'] = salestrain_df_combined.date.dt.year\n",
    "salestrain_df_combined['month'] = salestrain_df_combined.date.dt.month\n",
    "salestrain_df_combined['day'] = salestrain_df_combined.date.dt.day\n",
    "\n",
    "# adding revenue feature\n",
    "salestrain_df_combined['revenue'] = salestrain_df_combined.item_price * salestrain_df_combined.item_cnt_day\n",
    "salestrain_df_combined.head()"
   ]
  },
  {
   "cell_type": "code",
   "execution_count": null,
   "metadata": {
    "colab": {
     "base_uri": "https://localhost:8080/",
     "height": 645
    },
    "id": "SbiVOlOcdnMl",
    "outputId": "1c81baa3-eb34-4a78-a8c0-f2d772cc7cfc"
   },
   "outputs": [],
   "source": [
    "sns.set()\n",
    "salestrain_df_combined.groupby('date_block_num').date.count().plot.line(title='Sales by Month', color='green', figsize=(20, 10))"
   ]
  },
  {
   "cell_type": "markdown",
   "metadata": {
    "id": "84XkX343f9Ru"
   },
   "source": [
    "As we can see, sales are decreasing through the years. \n",
    "We also see a spike sale during december. \n",
    "Since, the dataset is up to October, are we seeing some spike in year 2015?"
   ]
  },
  {
   "cell_type": "code",
   "execution_count": null,
   "metadata": {
    "colab": {
     "base_uri": "https://localhost:8080/",
     "height": 622
    },
    "id": "pj-psTcbjH26",
    "outputId": "3e285168-7b35-4f9b-fffa-56d1333e2705"
   },
   "outputs": [],
   "source": [
    "# time series scatterplot of revenue highlighting years\n",
    "plt.figure(figsize = (20, 10))\n",
    "sns.scatterplot(x = salestrain_df_combined['date'], y = salestrain_df_combined['revenue'], hue = salestrain_df_combined['year'], palette='deep')\n",
    "plt.ylim(salestrain_df_combined['revenue'].min(), 1900000)\n",
    "#plt.arrow(2013-11-29, 1829990.0000013, 2013-11-30, 1700000, head_width = 10, head_length = 11)\n",
    "#plt.axvline()\n",
    "plt.ylabel('Revenue (millions of rubles)')\n",
    "plt.legend(fontsize='x-large')\n",
    "plt.show()"
   ]
  },
  {
   "cell_type": "code",
   "execution_count": null,
   "metadata": {
    "colab": {
     "base_uri": "https://localhost:8080/"
    },
    "id": "Z0sQa1EvZygz",
    "outputId": "36320e00-28d8-4923-f628-bcf5ba656246"
   },
   "outputs": [],
   "source": [
    "# printing most amount of revenue and least amount of revenue\n",
    "print(f'The least amount of revenue recorded is: {salestrain_df_combined.revenue.min()}')\n",
    "print(f'The most amount of revenue recorded is: {salestrain_df_combined.revenue.max()}')"
   ]
  },
  {
   "cell_type": "code",
   "execution_count": null,
   "metadata": {
    "colab": {
     "base_uri": "https://localhost:8080/"
    },
    "id": "Mce2e8MlUejX",
    "outputId": "fb766bbb-4807-4788-80b4-721c2503ac92"
   },
   "outputs": [],
   "source": [
    "# day with the highest amount of revenue\n",
    "print('The date with the most amount of revenue is:', salestrain_df_combined.loc[salestrain_df_combined['revenue'] == 734571.99999936, 'date'].values[0])"
   ]
  },
  {
   "cell_type": "code",
   "execution_count": null,
   "metadata": {
    "colab": {
     "base_uri": "https://localhost:8080/",
     "height": 529
    },
    "id": "7CwWaJYUVfue",
    "outputId": "172eaefa-8911-4d6d-b907-f84c248a4694"
   },
   "outputs": [],
   "source": [
    "# masking revenue numbers to show negative revenue\n",
    "# not sure how to have negative revenue\n",
    "# item returns?\n",
    "salestrain_neg_mask = salestrain_df_combined['revenue'] < 0\n",
    "salestrain_df_combined[salestrain_neg_mask].head(10)"
   ]
  },
  {
   "cell_type": "code",
   "execution_count": null,
   "metadata": {
    "colab": {
     "base_uri": "https://localhost:8080/"
    },
    "id": "5uJEbpZSwvTw",
    "outputId": "40bf7dc2-5153-4fd4-d4c9-d6c4dd688994"
   },
   "outputs": [],
   "source": [
    "# grouping revenue by month and rounding number\n",
    "monthly_group = salestrain_df_combined.groupby(by=['month'])\n",
    "monthly_group_sum = monthly_group['revenue'].sum().round()      \n",
    "monthly_group_sum                   "
   ]
  },
  {
   "cell_type": "code",
   "execution_count": null,
   "metadata": {
    "colab": {
     "base_uri": "https://localhost:8080/"
    },
    "id": "yc0KkeSf2Gvh",
    "outputId": "7df429f5-f682-4354-9bf1-dd88ddf52d56"
   },
   "outputs": [],
   "source": [
    "# normalizing data for visualization\n",
    "monthly_group_norm = (monthly_group_sum - monthly_group_sum.mean()) / (monthly_group_sum.max() - monthly_group_sum.min())\n",
    "monthly_group_norm = abs(monthly_group_norm)\n",
    "monthly_group_norm"
   ]
  },
  {
   "cell_type": "code",
   "execution_count": null,
   "metadata": {
    "colab": {
     "base_uri": "https://localhost:8080/",
     "height": 610
    },
    "id": "FKV7y25_7nVN",
    "outputId": "bdca4a50-f570-47ff-8db2-eddfebc493b4"
   },
   "outputs": [],
   "source": [
    "# graphing normalized revenue\n",
    "# look at those december sales!!\n",
    "ax, fig = plt.subplots(figsize=(20,10))\n",
    "cols = ['Jan', 'Feb', 'Mar', 'Apr', 'May', 'Jun', 'Jul', 'Aug', 'Sep', 'Oct', 'Nov', 'Dec']\n",
    "plt.bar(cols, monthly_group_norm, color='red')\n",
    "plt.title('Normalized revenue by month')\n",
    "plt.show()"
   ]
  },
  {
   "cell_type": "code",
   "execution_count": null,
   "metadata": {
    "colab": {
     "base_uri": "https://localhost:8080/",
     "height": 622
    },
    "id": "lhLWOd8peBDd",
    "outputId": "e5a94c53-143b-4c0e-b722-4d2603f4b5c3"
   },
   "outputs": [],
   "source": [
    "# Plot total revenue by month for each year\n",
    "salestrain_df_combined.groupby(['month', 'year']).sum()['revenue'].unstack().plot(figsize=(20, 10))\n",
    "plt.xlabel('Month')\n",
    "plt.ylabel('Total Revenue')\n",
    "plt.show()"
   ]
  },
  {
   "cell_type": "markdown",
   "metadata": {
    "id": "JTYRFbtfgHzE"
   },
   "source": [
    "There are no sales spike on december 2015."
   ]
  },
  {
   "cell_type": "code",
   "execution_count": null,
   "metadata": {
    "colab": {
     "base_uri": "https://localhost:8080/"
    },
    "id": "gIGvE9QA6Q-f",
    "outputId": "dd28ac19-7298-473d-9dde-ceb637126ea1"
   },
   "outputs": [],
   "source": [
    "# creating list of top selling items\n",
    "top_items = [20949, 5822, 17717, 2808, 4181, 7856, 3732, 2308, 4870, 3734]\n",
    "\n",
    "# creating empty list to append to\n",
    "top_item_cols = []\n",
    "\n",
    "# loop to append item name based on top selling items\n",
    "for items in top_items:\n",
    "  top_item_cols.append(salestrain_df_combined.loc[salestrain_df_combined['item_id'] == items, 'item_name'].values[0])\n",
    "\n",
    "top_item_cols"
   ]
  },
  {
   "cell_type": "code",
   "execution_count": null,
   "metadata": {
    "colab": {
     "base_uri": "https://localhost:8080/",
     "height": 611
    },
    "id": "yf6ZXrBQeLa9",
    "outputId": "7e72199c-6f16-4b92-811b-8e8fc7d4378c"
   },
   "outputs": [],
   "source": [
    "# Plot the top 10 most items sold\n",
    "fig, ax = plt.subplots(figsize=(20, 10))\n",
    "sns.countplot(y = 'item_id', hue = 'year', data = salestrain_df_combined, order = salestrain_df_combined['item_id'].value_counts().iloc[:10].index)\n",
    "ax.set_yticklabels(top_item_cols)\n",
    "plt.xlim(0, 20000)\n",
    "plt.xlabel('Sales of Sold Items')\n",
    "plt.ylabel('Item IDs')\n",
    "plt.show()"
   ]
  },
  {
   "cell_type": "code",
   "execution_count": null,
   "metadata": {
    "colab": {
     "base_uri": "https://localhost:8080/"
    },
    "id": "bHw_JHDEDrkq",
    "outputId": "89f12e2b-6389-4d54-ef81-8305507561c5"
   },
   "outputs": [],
   "source": [
    "salestrain_df_combined['item_id'] == 20949"
   ]
  },
  {
   "cell_type": "code",
   "execution_count": null,
   "metadata": {
    "colab": {
     "base_uri": "https://localhost:8080/",
     "height": 599
    },
    "id": "OSjQtW30gLb5",
    "outputId": "a3cd2a68-1840-42a6-ad91-e5d24e61a8d9"
   },
   "outputs": [],
   "source": [
    "plt.figure(figsize = (20, 10))\n",
    "sns.heatmap(salestrain_df_combined.corr(), cmap='Blues')\n",
    "plt.show()"
   ]
  },
  {
   "cell_type": "code",
   "execution_count": null,
   "metadata": {
    "colab": {
     "base_uri": "https://localhost:8080/",
     "height": 627
    },
    "id": "NmaqVg7Bi9tG",
    "outputId": "db0b9a83-2fff-4df8-a290-3efe0d3f96d7"
   },
   "outputs": [],
   "source": [
    "# plotting histogram of the price of items\n",
    "# some high ticket items, lots \n",
    "fig, ax = plt.subplots(figsize=(20, 10))\n",
    "sns.histplot(x='item_price', data=salestrain_df)\n",
    "plt.xlim(0, 4000)\n",
    "plt.title('Item price histogram')\n",
    "plt.show()"
   ]
  },
  {
   "cell_type": "markdown",
   "metadata": {
    "id": "G7AkQvgxBfXn"
   },
   "source": [
    "create item price bands to graph"
   ]
  },
  {
   "cell_type": "markdown",
   "metadata": {
    "id": "bqSMaSwVBSdM"
   },
   "source": [
    "whisker plot with yearly revenue?"
   ]
  },
  {
   "cell_type": "markdown",
   "metadata": {
    "id": "ZlU1y_1fIzMX"
   },
   "source": [
    "pair plot variation? diag_kind='hist'"
   ]
  },
  {
   "cell_type": "markdown",
   "metadata": {
    "id": "yYZBAY-bMJcF"
   },
   "source": [
    "sns.scatterplot"
   ]
  },
  {
   "cell_type": "markdown",
   "metadata": {
    "id": "icppcJg8DfzH"
   },
   "source": [
    "# Feature selection"
   ]
  },
  {
   "cell_type": "markdown",
   "metadata": {
    "id": "-vitZ_85DxmV"
   },
   "source": [
    "Make features for MA: 7, 30, 60, 90 days, season, month"
   ]
  },
  {
   "cell_type": "markdown",
   "metadata": {
    "id": "GQ1Wez84D6Uj"
   },
   "source": [
    "Convert into categorical - Store, Item"
   ]
  },
  {
   "cell_type": "code",
   "execution_count": null,
   "metadata": {
    "colab": {
     "base_uri": "https://localhost:8080/",
     "height": 204
    },
    "id": "N7Lubs0qDlR4",
    "outputId": "d00048c4-a17e-41f2-a1cb-5fc5cdfd44e3"
   },
   "outputs": [],
   "source": [
    "# item names with their revenue and sold count\n",
    "item_names = salestrain_df_combined.groupby('item_name').agg({'revenue':'sum', 'item_cnt_day':'count'}).reset_index().rename(columns={'item_name': 'Item Name', 'revenue': 'Revenue', 'item_cnt_day': 'Number of Sales'})\n",
    "item_names.head()"
   ]
  },
  {
   "cell_type": "code",
   "execution_count": null,
   "metadata": {
    "colab": {
     "base_uri": "https://localhost:8080/",
     "height": 627
    },
    "id": "y_YiIJRtEJcc",
    "outputId": "966bd976-c25c-4b1e-ffd8-ecb66cec0fd3"
   },
   "outputs": [],
   "source": [
    "# top 10 items based on their revenue\n",
    "top10_revenue = item_names.nlargest(10, 'Revenue')\n",
    "\n",
    "fig, ax = plt.subplots(figsize=(20,10))\n",
    "sns.barplot(data=top10_revenue, hue='Number of Sales', x='Revenue', y='Item Name')\n",
    "plt.title(\"Top 10 Items based on Revenue including their Number of Sales\")\n",
    "plt.show()"
   ]
  },
  {
   "cell_type": "code",
   "execution_count": null,
   "metadata": {
    "colab": {
     "base_uri": "https://localhost:8080/",
     "height": 627
    },
    "id": "JvbCUMqTEaFb",
    "outputId": "f8a458f9-16e2-4034-aef0-706f8bab4274"
   },
   "outputs": [],
   "source": [
    "# top 10 items based on their revenue\n",
    "top10_sales = item_names.nlargest(10, 'Number of Sales')\n",
    "\n",
    "fig, ax = plt.subplots(figsize=(20,10))\n",
    "sns.barplot(data=top10_sales, x='Number of Sales', y='Item Name', hue='Revenue')\n",
    "plt.title(\"Top 10 Items based on Sales including their Revenue\")\n",
    "plt.show()"
   ]
  },
  {
   "cell_type": "code",
   "execution_count": null,
   "metadata": {
    "colab": {
     "base_uri": "https://localhost:8080/",
     "height": 204
    },
    "id": "DFKnw4c8E0Pw",
    "outputId": "0fed6313-e3f1-40b9-c733-833b5f5b9575"
   },
   "outputs": [],
   "source": [
    "# category names and how many items in it.\n",
    "category_names = salestrain_df_combined.groupby(['item_category_name']).agg({'item_name':'count'}).reset_index().rename(columns={'item_category_name': 'Category Name','item_name': 'Number of Items'})\n",
    "category_names.head()"
   ]
  },
  {
   "cell_type": "code",
   "execution_count": null,
   "metadata": {
    "colab": {
     "base_uri": "https://localhost:8080/",
     "height": 204
    },
    "id": "vY8bs31bFH7Z",
    "outputId": "3051d3e0-4993-4257-8a72-8499085676e9"
   },
   "outputs": [],
   "source": [
    "#Find total sales by item\n",
    "total_sales_by_item = salestrain_df_combined.groupby('item_id')['item_cnt_day'].sum().reset_index()\n",
    "\n",
    "#Sort descending\n",
    "total_sales_by_item.sort_values(by='item_cnt_day',ascending=False,inplace=True)\n",
    "total_sales_by_item.head()"
   ]
  },
  {
   "cell_type": "code",
   "execution_count": null,
   "metadata": {
    "colab": {
     "base_uri": "https://localhost:8080/",
     "height": 204
    },
    "id": "Z-dOSVpdFWUt",
    "outputId": "1d3e8c13-0ce8-4f33-f2fe-4107b426fd23"
   },
   "outputs": [],
   "source": [
    "#Merge together so we can get item_name with total sales values\n",
    "total_sales_by_item_with_name = total_sales_by_item.merge(items_df[['item_name','item_id']],on='item_id')\n",
    "total_sales_by_item_with_name.head()"
   ]
  },
  {
   "cell_type": "code",
   "execution_count": null,
   "metadata": {
    "colab": {
     "base_uri": "https://localhost:8080/"
    },
    "id": "RKxEl2U-GWQt",
    "outputId": "19344a35-6505-4598-e341-5068ee77f2ec"
   },
   "outputs": [],
   "source": [
    "total_sales_by_item['item_cnt_day'].iloc[:10]"
   ]
  },
  {
   "cell_type": "code",
   "execution_count": null,
   "metadata": {
    "colab": {
     "base_uri": "https://localhost:8080/",
     "height": 611
    },
    "id": "WIcGTIpVFuba",
    "outputId": "bda8a32f-4241-4756-fe06-154b145989b9"
   },
   "outputs": [],
   "source": [
    "# updated scatterplot showing top 20 best selling items day to day\n",
    "fig, ax = plt.subplots(figsize=(20,10))\n",
    "plt.scatter(y = total_sales_by_item['item_cnt_day'].iloc[:20], x = total_sales_by_item['item_id'].iloc[:20])\n",
    "plt.xlabel('Item ID')\n",
    "plt.ylabel('Item count per day')\n",
    "plt.show()"
   ]
  },
  {
   "cell_type": "markdown",
   "metadata": {
    "id": "MchAi0wABchP"
   },
   "source": [
    "##Recommendation Engine"
   ]
  },
  {
   "cell_type": "code",
   "execution_count": null,
   "metadata": {
    "id": "BiT7a3a6Fwnz"
   },
   "outputs": [],
   "source": [
    "# Get sales by item, by date - again, not very exciting,so I also used fillna()\n",
    "sales_totals_by_day = salestrain_df_combined.pivot_table(index='item_id',columns=['year', 'month', 'day'],values='item_cnt_day').fillna(0)"
   ]
  },
  {
   "cell_type": "code",
   "execution_count": null,
   "metadata": {
    "id": "fDvgXPlkF80W"
   },
   "outputs": [],
   "source": [
    "# Clean up the multi-level index\n",
    "sales_totals_by_day.columns = sales_totals_by_day.columns.droplevel().droplevel()"
   ]
  },
  {
   "cell_type": "code",
   "execution_count": null,
   "metadata": {
    "colab": {
     "base_uri": "https://localhost:8080/",
     "height": 0
    },
    "id": "aAQ_Imf3GEaq",
    "outputId": "1cb9587f-cedb-49c8-83a3-d443659fb4dd"
   },
   "outputs": [],
   "source": [
    "sales_totals_by_day.head()"
   ]
  },
  {
   "cell_type": "code",
   "execution_count": null,
   "metadata": {
    "colab": {
     "base_uri": "https://localhost:8080/"
    },
    "id": "Z37oDt15GHZ-",
    "outputId": "e781247d-0157-4c49-e8e1-75a0800183a4"
   },
   "outputs": [],
   "source": [
    "# Shape of the resulting DF - items x days\n",
    "sales_totals_by_day.shape"
   ]
  },
  {
   "cell_type": "code",
   "execution_count": null,
   "metadata": {
    "id": "EfZEnry-GMEt"
   },
   "outputs": [],
   "source": [
    "#Transpose this\n",
    "sales_totals_by_day_transposed = sales_totals_by_day.transpose()"
   ]
  },
  {
   "cell_type": "code",
   "execution_count": null,
   "metadata": {
    "colab": {
     "base_uri": "https://localhost:8080/",
     "height": 0
    },
    "id": "_YhaC0WUGRlS",
    "outputId": "5e42b3c6-20dc-4af2-97d3-81370261dc6f"
   },
   "outputs": [],
   "source": [
    "sales_totals_by_day_transposed.head()"
   ]
  },
  {
   "cell_type": "code",
   "execution_count": null,
   "metadata": {
    "id": "SYr1HT2nGXOO"
   },
   "outputs": [],
   "source": [
    "# Recommendation engine - find the closest matches to an item in terms of daily sales\n",
    "# Similar to finding similar movies based on movie rating\n",
    "\n",
    "#Select a popular item\n",
    "selected_item = 2808"
   ]
  },
  {
   "cell_type": "code",
   "execution_count": null,
   "metadata": {
    "id": "kp9PZsfWGd6c"
   },
   "outputs": [],
   "source": [
    "#Pull out the column of that day's sales\n",
    "selected_item_sales = sales_totals_by_day_transposed[selected_item]"
   ]
  },
  {
   "cell_type": "code",
   "execution_count": null,
   "metadata": {
    "id": "PG2LdGkoGhsE"
   },
   "outputs": [],
   "source": [
    "#Run correlation with every other column to find similar sales patterns\n",
    "similarItems = sales_totals_by_day_transposed.corrwith(selected_item_sales)"
   ]
  },
  {
   "cell_type": "code",
   "execution_count": null,
   "metadata": {
    "id": "yK2VKoiAGk9f"
   },
   "outputs": [],
   "source": [
    "#Convert from a series to a DF\n",
    "similarItems_df = pd.DataFrame(similarItems)"
   ]
  },
  {
   "cell_type": "code",
   "execution_count": null,
   "metadata": {
    "colab": {
     "base_uri": "https://localhost:8080/",
     "height": 0
    },
    "id": "DRHV_bUZGpID",
    "outputId": "b24bde1e-968e-4f93-fe59-d817862a3a78"
   },
   "outputs": [],
   "source": [
    "similarItems_df.head()"
   ]
  },
  {
   "cell_type": "code",
   "execution_count": null,
   "metadata": {
    "id": "gnx0ETi9Gsg5"
   },
   "outputs": [],
   "source": [
    "#Rename columns\n",
    "similarItems_df.columns=['similarity']"
   ]
  },
  {
   "cell_type": "code",
   "execution_count": null,
   "metadata": {
    "colab": {
     "base_uri": "https://localhost:8080/",
     "height": 0
    },
    "id": "tgPgvfqFGvcE",
    "outputId": "eed9b98c-a5d6-4170-de8b-b1a752285fcd"
   },
   "outputs": [],
   "source": [
    "similarItems_df.head()"
   ]
  },
  {
   "cell_type": "code",
   "execution_count": null,
   "metadata": {
    "id": "hKcstmtOGyel"
   },
   "outputs": [],
   "source": [
    "#Merge back item names\n",
    "similarItems_df=similarItems_df.merge(items_df[['item_name','item_id']],left_index=True,right_on='item_id')"
   ]
  },
  {
   "cell_type": "code",
   "execution_count": null,
   "metadata": {
    "id": "OsvnieMlG2bR"
   },
   "outputs": [],
   "source": [
    "#Sort\n",
    "similarItems_df_sorted=similarItems_df.sort_values(by='similarity',ascending=False)"
   ]
  },
  {
   "cell_type": "code",
   "execution_count": null,
   "metadata": {
    "colab": {
     "base_uri": "https://localhost:8080/",
     "height": 0
    },
    "id": "8HM_oJ7AG5u-",
    "outputId": "41845f04-4b17-425f-c301-fb3795da0409"
   },
   "outputs": [],
   "source": [
    "#The top results for item 2808 seem to make some sense (games), but they also include programming books and other things-inconclusive?\n",
    "similarItems_df_sorted.head(20)"
   ]
  },
  {
   "cell_type": "code",
   "execution_count": null,
   "metadata": {
    "id": "V6lqZ6_wG9gP"
   },
   "outputs": [],
   "source": [
    "#Function to return the values:\n",
    "\n",
    "def find_similar_based_on_daily_sales(selected_item,sales_totals_by_day_transposed=sales_totals_by_day_transposed):\n",
    "    selected_item_sales=sales_totals_by_day_transposed[selected_item]\n",
    "    similarItems = sales_totals_by_day_transposed.corrwith(selected_item_sales)\n",
    "    similarItems_df=pd.DataFrame(similarItems)\n",
    "    similarItems_df.columns=['similarity']\n",
    "    similarItems_df=similarItems_df.merge(items_df[['item_name','item_id']],left_index=True,right_on='item_id')\n",
    "    similarItems_df_sorted=similarItems_df.sort_values(by='similarity',ascending=False)\n",
    "    print(similarItems_df_sorted.head(20))"
   ]
  },
  {
   "cell_type": "code",
   "execution_count": null,
   "metadata": {
    "colab": {
     "base_uri": "https://localhost:8080/"
    },
    "id": "u_lBhDouHBSe",
    "outputId": "ee262e4b-cb66-4e27-fcb7-03956a6e4fe1"
   },
   "outputs": [],
   "source": [
    "find_similar_based_on_daily_sales(2808)"
   ]
  },
  {
   "cell_type": "code",
   "execution_count": null,
   "metadata": {
    "colab": {
     "base_uri": "https://localhost:8080/"
    },
    "id": "UFqJ3ofRHEze",
    "outputId": "e90bc76a-af34-47bd-f745-d048f1d7cbc4"
   },
   "outputs": [],
   "source": [
    "#What is similar to those corporate T-shirts?\n",
    "find_similar_based_on_daily_sales(20949)"
   ]
  },
  {
   "cell_type": "code",
   "execution_count": null,
   "metadata": {
    "colab": {
     "base_uri": "https://localhost:8080/"
    },
    "id": "PnVK8ybLHMNA",
    "outputId": "b57c7bd3-c305-4abc-dcd0-bda5d03293dc"
   },
   "outputs": [],
   "source": [
    "#What is similar to minecraft?\n",
    "find_similar_based_on_daily_sales(4870)"
   ]
  },
  {
   "cell_type": "code",
   "execution_count": null,
   "metadata": {
    "colab": {
     "base_uri": "https://localhost:8080/"
    },
    "id": "TVhvqxxgHUKd",
    "outputId": "5b014594-e793-47e8-92f1-bf102decc28b"
   },
   "outputs": [],
   "source": [
    "#This item averaged 5 sales per day, max of 35, so it wasn't distorted by one overwhelmingly high corporate order\n",
    "sales_totals_by_day_transposed[20949].describe()"
   ]
  },
  {
   "cell_type": "markdown",
   "metadata": {
    "id": "jKVDe7cmG5wH"
   },
   "source": [
    "## Rolling window K-fold cross-validation"
   ]
  },
  {
   "cell_type": "code",
   "execution_count": null,
   "metadata": {
    "colab": {
     "base_uri": "https://localhost:8080/"
    },
    "id": "K1PZjrYqLL3H",
    "outputId": "d64abe48-d074-421b-83a5-44a82de8066c"
   },
   "outputs": [],
   "source": [
    "salestrain_df_combined.columns"
   ]
  },
  {
   "cell_type": "code",
   "execution_count": null,
   "metadata": {
    "id": "mI3YIdocOH1e"
   },
   "outputs": [],
   "source": [
    "# setting X as date col and y as revenue col to be split\n",
    "X = salestrain_df_combined['date']\n",
    "y = salestrain_df_combined['revenue']"
   ]
  },
  {
   "cell_type": "code",
   "execution_count": null,
   "metadata": {
    "id": "_CiMrixpKjhM"
   },
   "outputs": [],
   "source": [
    "# creating the time series split, one split for every month in the year\n",
    "tscv = TimeSeriesSplit(n_splits = 12)"
   ]
  },
  {
   "cell_type": "code",
   "execution_count": null,
   "metadata": {
    "colab": {
     "base_uri": "https://localhost:8080/"
    },
    "id": "WXSW46VaL7g8",
    "outputId": "d1cf1743-070f-4a5f-f89e-6c0086876d95"
   },
   "outputs": [],
   "source": [
    "# looping through every time series split \n",
    "for train_index, test_index in tscv.split(X):\n",
    "  print(f'TRAIN SHAPE: {train_index.shape} TEST SHAPE: {test_index.shape}')\n",
    "  X_train, X_test = X[train_index], X[test_index]\n",
    "  y_train, y_test = y[train_index], y[train_index]"
   ]
  },
  {
   "cell_type": "markdown",
   "metadata": {
    "id": "O6TAj7fUryKg"
   },
   "source": [
    "## Removing features with low variance"
   ]
  },
  {
   "cell_type": "code",
   "execution_count": null,
   "metadata": {
    "colab": {
     "base_uri": "https://localhost:8080/"
    },
    "id": "U4ivXmd-2x5T",
    "outputId": "8f25d02f-f1c7-4c74-ddf4-386b78e6c1ea"
   },
   "outputs": [],
   "source": [
    "salestrain_df_combined.columns"
   ]
  },
  {
   "cell_type": "code",
   "execution_count": null,
   "metadata": {
    "id": "AsjTfbrl2UIe"
   },
   "outputs": [],
   "source": [
    "train_set = salestrain_df_combined.drop(columns = ['revenue'])"
   ]
  },
  {
   "cell_type": "code",
   "execution_count": null,
   "metadata": {
    "id": "D7tGpOca4V3a"
   },
   "outputs": [],
   "source": [
    "# mapping date col to ordinal for use with VarianceThreshold\n",
    "train_set['date'] = train_set['date'].map(dt.datetime.toordinal)"
   ]
  },
  {
   "cell_type": "code",
   "execution_count": null,
   "metadata": {
    "id": "cmXty02xZTXk"
   },
   "outputs": [],
   "source": [
    "for col in ['item_name', 'item_category_name', 'shop_name']:\n",
    "   train_set[col] = LabelEncoder().fit_transform(train_set[col])"
   ]
  },
  {
   "cell_type": "code",
   "execution_count": null,
   "metadata": {
    "id": "tCA_TBnX28L-"
   },
   "outputs": [],
   "source": [
    "test_set = salestrain_df_combined['revenue']"
   ]
  },
  {
   "cell_type": "code",
   "execution_count": null,
   "metadata": {
    "colab": {
     "base_uri": "https://localhost:8080/"
    },
    "id": "dnKtJvYF3Ick",
    "outputId": "55e7cb79-50a2-4f79-cec2-866eddcbf1c2"
   },
   "outputs": [],
   "source": [
    "train_set.dtypes"
   ]
  },
  {
   "cell_type": "code",
   "execution_count": null,
   "metadata": {
    "colab": {
     "base_uri": "https://localhost:8080/"
    },
    "id": "rcQ81fFb3IpB",
    "outputId": "a33744b4-4686-4d1f-ee06-1335d9142012"
   },
   "outputs": [],
   "source": [
    "test_set.shape"
   ]
  },
  {
   "cell_type": "code",
   "execution_count": null,
   "metadata": {
    "id": "4AzdTXaCsUVS"
   },
   "outputs": [],
   "source": [
    "# creating the Variance Threshold and setting variance to 10 -> can mess around with this number\n",
    "threshold = VarianceThreshold(threshold = 10)"
   ]
  },
  {
   "cell_type": "code",
   "execution_count": null,
   "metadata": {
    "id": "PiSFnJqHsfKE"
   },
   "outputs": [],
   "source": [
    "# fit transforming variance threshold to train set\n",
    "high_variance = threshold.fit(train_set)"
   ]
  },
  {
   "cell_type": "code",
   "execution_count": null,
   "metadata": {
    "colab": {
     "base_uri": "https://localhost:8080/"
    },
    "id": "qrjzkTlTlJu8",
    "outputId": "35d26066-8d3c-4065-e670-1d86f6fdd47d"
   },
   "outputs": [],
   "source": [
    "# seeing which cols do not have high variance\n",
    "train_set.columns[high_variance.get_support()]"
   ]
  },
  {
   "cell_type": "code",
   "execution_count": null,
   "metadata": {
    "colab": {
     "base_uri": "https://localhost:8080/"
    },
    "id": "IXytUrgIlIbO",
    "outputId": "99d4dee7-6626-47a1-fdf1-be5e856f4adb"
   },
   "outputs": [],
   "source": [
    "# seeing which cols have low variance\n",
    "constant_cols = [column for column in train_set.columns if column not in train_set.columns[high_variance.get_support()]]\n",
    "print(f'The columns with low(ish) variance is: {constant_cols}')"
   ]
  },
  {
   "cell_type": "markdown",
   "metadata": {
    "id": "MgETveekchhL"
   },
   "source": [
    "All of our features have high variance, therefore they don't have to be removed."
   ]
  },
  {
   "cell_type": "markdown",
   "metadata": {
    "id": "_by84Y8SBuKb"
   },
   "source": [
    "## K-Means clustering"
   ]
  },
  {
   "cell_type": "code",
   "execution_count": null,
   "metadata": {
    "id": "ARJFxi8_CWGO"
   },
   "outputs": [],
   "source": [
    "#salestrain_df.head()\n",
    "salestrain_df = salestrain_df.drop('date', axis=1)"
   ]
  },
  {
   "cell_type": "code",
   "execution_count": null,
   "metadata": {
    "colab": {
     "base_uri": "https://localhost:8080/",
     "height": 359
    },
    "id": "awK01tfoCYJg",
    "outputId": "e6d95136-f839-4f5c-e50e-77e0f5e549e4"
   },
   "outputs": [],
   "source": [
    "salestrain_df.head(10)"
   ]
  },
  {
   "cell_type": "code",
   "execution_count": null,
   "metadata": {
    "colab": {
     "base_uri": "https://localhost:8080/"
    },
    "id": "3u3UQVVZCbAP",
    "outputId": "9aeae4fb-3280-40bd-fea1-abfc4cee798a"
   },
   "outputs": [],
   "source": [
    "# Create scaler: scaler\n",
    "scaler = StandardScaler()\n",
    "\n",
    "# Create KMeans instance: kmeans\n",
    "kmeans = KMeans(n_clusters=4)\n",
    "\n",
    "# Create pipeline: pipeline\n",
    "pipeline = make_pipeline(scaler, kmeans)\n",
    "\n",
    "# Fit the pipeline to samples\n",
    "pipeline.fit(np.array(salestrain_df))\n",
    "\n",
    "# Calculate the cluster labels: labels\n",
    "labels = pipeline.predict(salestrain_df)\n",
    "\n",
    "# Create a DataFrame with labels and prices as columns: salestrain_df\n",
    "#salestrain_df = pd.DataFrame({'item_price': item_price, 'item_cnt_day': item_cnt_day})\n",
    "\n",
    "# Create crosstab: ct\n",
    "ct = pd.crosstab(salestrain_df['item_price'], salestrain_df['item_cnt_day'])\n",
    "\n",
    "# Display ct\n",
    "print(ct.sort_values('item_price'))"
   ]
  },
  {
   "cell_type": "code",
   "execution_count": null,
   "metadata": {
    "colab": {
     "base_uri": "https://localhost:8080/",
     "height": 594
    },
    "id": "zewAZXosCzvK",
    "outputId": "e79d606d-de6d-4ed7-8741-700b945e4a43"
   },
   "outputs": [],
   "source": [
    "# plotting clusters\n",
    "plt.figure(figsize=(20, 10))\n",
    "plt.plot(ct)\n",
    "plt.show()"
   ]
  },
  {
   "cell_type": "code",
   "execution_count": null,
   "metadata": {
    "id": "icKqBH3IBzXZ"
   },
   "outputs": [],
   "source": [
    "# reshaping values to workable vector\n",
    "dfx = salestrain_df.values.reshape(1, -1)\n",
    "dfy = salestrain_df.values.reshape(1, -1)"
   ]
  },
  {
   "cell_type": "code",
   "execution_count": null,
   "metadata": {
    "id": "GFHmuApiCDoK"
   },
   "outputs": [],
   "source": [
    "# WHY DELETING?\n",
    "\n",
    "# delete part 1\n",
    "#dfx = np.delete(dfx, 0)\n",
    "#dfy = np.delete(dfy, 0)"
   ]
  },
  {
   "cell_type": "code",
   "execution_count": null,
   "metadata": {
    "id": "Xe_8QVcoCDvA"
   },
   "outputs": [],
   "source": [
    "# WHY DELETING?\n",
    "\n",
    "# delete part 2\n",
    "#dfx = np.delete(dfx, 1)\n",
    "#dfy = np.delete(dfy, 1)"
   ]
  },
  {
   "cell_type": "code",
   "execution_count": null,
   "metadata": {
    "colab": {
     "base_uri": "https://localhost:8080/"
    },
    "id": "E-h2T_fcC3h7",
    "outputId": "c80975cb-d074-478f-fdbb-fd0848262333"
   },
   "outputs": [],
   "source": [
    "print(f'dfx shape: {dfx.shape}')\n",
    "print(f'dfy shape: {dfy.shape}')"
   ]
  },
  {
   "cell_type": "code",
   "execution_count": null,
   "metadata": {
    "colab": {
     "base_uri": "https://localhost:8080/",
     "height": 356
    },
    "id": "x8ht_Z5PC7lL",
    "outputId": "4889a039-35a1-4012-de4d-8326d23b8fb3"
   },
   "outputs": [],
   "source": [
    "# setting variables train test split\n",
    "X = dfx\n",
    "y = dfy\n",
    "\n",
    "# running logistic regression baseline\n",
    "logreg =  LogisticRegression()\n",
    "X_train, y_train, X_test, y_test = train_test_split(X, y, test_size=0.3, random_state=42)"
   ]
  },
  {
   "cell_type": "code",
   "execution_count": null,
   "metadata": {
    "id": "bLPLECshxVxN"
   },
   "outputs": [],
   "source": [
    "# checking train, test shapes\n",
    "print(f'X_train shape: {X_train.shape}')\n",
    "print(f'y_train shape: {y_train.shape}')\n",
    "print(f'X_test shape: {X_test.shape}')\n",
    "print(f'y_test shape: {y_test.shape}')"
   ]
  },
  {
   "cell_type": "code",
   "execution_count": null,
   "metadata": {
    "id": "FKNqiZsDw9np"
   },
   "outputs": [],
   "source": [
    "#\n",
    "logreg.fit(X_train, y_train)\n",
    "y_pred =logreg.predict(X_test)\n",
    "\n",
    "print(confusion_matrix(y_test, y_pred))\n",
    "print(classification_report(y_test, y_pred))"
   ]
  },
  {
   "cell_type": "code",
   "execution_count": null,
   "metadata": {
    "id": "9Yaxr4kiDGys"
   },
   "outputs": [],
   "source": [
    "clf = linear_model.Lasso(alpha=0.1)\n",
    "clf.fit(X_train, y_train)\n",
    "clf.predict(X_test)\n",
    "print(confusion_matrix(y_test, y_pred))\n",
    "print(classification_report(y_test, y_pred))"
   ]
  },
  {
   "cell_type": "markdown",
   "metadata": {
    "id": "LErutUyxRu51"
   },
   "source": [
    "## Categorical features OHE"
   ]
  },
  {
   "cell_type": "code",
   "execution_count": null,
   "metadata": {
    "colab": {
     "base_uri": "https://localhost:8080/"
    },
    "id": "3e7vSuc3R09Q",
    "outputId": "36d7a260-7f53-4196-da98-13740fc6df30"
   },
   "outputs": [],
   "source": [
    "salestrain_df_combined.columns"
   ]
  },
  {
   "cell_type": "code",
   "execution_count": null,
   "metadata": {
    "colab": {
     "base_uri": "https://localhost:8080/",
     "height": 204
    },
    "id": "N6LY0V2QScWr",
    "outputId": "21436eef-6cbc-466c-8058-8a825150550b"
   },
   "outputs": [],
   "source": [
    "salestrain_df_combined.head()"
   ]
  },
  {
   "cell_type": "code",
   "execution_count": null,
   "metadata": {
    "colab": {
     "base_uri": "https://localhost:8080/"
    },
    "id": "_f7CoH79Sk8A",
    "outputId": "564155d0-6505-4ce8-a489-7ae572c5651a"
   },
   "outputs": [],
   "source": [
    "salestrain_df_combined.dtypes"
   ]
  },
  {
   "cell_type": "code",
   "execution_count": null,
   "metadata": {
    "colab": {
     "base_uri": "https://localhost:8080/",
     "height": 204
    },
    "id": "xuRk7wCZV2WQ",
    "outputId": "7ad85a69-f33a-4bfa-e3f0-fa316bcba3ea"
   },
   "outputs": [],
   "source": [
    "salestrain_df_ohe = salestrain_df_combined.select_dtypes(include=[object])\n",
    "salestrain_df_ohe.head()"
   ]
  },
  {
   "cell_type": "code",
   "execution_count": null,
   "metadata": {
    "colab": {
     "base_uri": "https://localhost:8080/"
    },
    "id": "OpcZI5eYWJzV",
    "outputId": "0b085611-826a-4f4b-c6ff-784604dee4d5"
   },
   "outputs": [],
   "source": [
    "salestrain_df_combined.shape"
   ]
  },
  {
   "cell_type": "markdown",
   "metadata": {
    "id": "DfTzu7o8S7t1"
   },
   "source": [
    "\n",
    "# good resources\n",
    "https://scikit-learn.org/stable/modules/generated/sklearn.preprocessing.OneHotEncoder.html\n",
    "\n",
    "https://www.ritchieng.com/machinelearning-one-hot-encoding/\n",
    "\n",
    "https://towardsdatascience.com/categorical-encoding-using-label-encoding-and-one-hot-encoder-911ef77fb5bd"
   ]
  }
 ],
 "metadata": {
  "accelerator": "GPU",
  "colab": {
   "collapsed_sections": [
    "4mY4s3UubFhz",
    "2JVZ-b2LbqjR",
    "uHVIBl7Xcv4E",
    "MchAi0wABchP",
    "O6TAj7fUryKg"
   ],
   "include_colab_link": true,
   "name": "predict_future_sales.ipynb",
   "provenance": []
  },
  "kernelspec": {
   "display_name": "Python 3",
   "language": "python",
   "name": "python3"
  },
  "language_info": {
   "codemirror_mode": {
    "name": "ipython",
    "version": 3
   },
   "file_extension": ".py",
   "mimetype": "text/x-python",
   "name": "python",
   "nbconvert_exporter": "python",
   "pygments_lexer": "ipython3",
   "version": "3.8.3"
  }
 },
 "nbformat": 4,
 "nbformat_minor": 4
}
